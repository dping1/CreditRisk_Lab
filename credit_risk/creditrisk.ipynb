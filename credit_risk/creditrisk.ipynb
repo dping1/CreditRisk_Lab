{
 "cells": [
  {
   "cell_type": "code",
   "execution_count": 1,
   "metadata": {},
   "outputs": [],
   "source": [
    "import pandas as pd\n",
    "import matplotlib as plt\n",
    "import urllib.request"
   ]
  },
  {
   "cell_type": "code",
   "execution_count": 2,
   "metadata": {},
   "outputs": [
    {
     "data": {
      "text/plain": [
       "('credit_default_dataset.csv', <http.client.HTTPMessage at 0x7f8c13e3ba58>)"
      ]
     },
     "execution_count": 2,
     "metadata": {},
     "output_type": "execute_result"
    }
   ],
   "source": [
    "datafile_src = \"https://s3-us-west-2.amazonaws.com/ml-training-sfo/Credit_default_dataset.csv\"\n",
    "target_file = \"credit_default_dataset.csv\"\n",
    "\n",
    "urllib.request.urlretrieve(datafile_src, target_file)"
   ]
  },
  {
   "cell_type": "code",
   "execution_count": 3,
   "metadata": {},
   "outputs": [],
   "source": [
    "credit = pd.read_csv(target_file)"
   ]
  },
  {
   "cell_type": "code",
   "execution_count": 6,
   "metadata": {},
   "outputs": [
    {
     "data": {
      "text/html": [
       "<div>\n",
       "<style scoped>\n",
       "    .dataframe tbody tr th:only-of-type {\n",
       "        vertical-align: middle;\n",
       "    }\n",
       "\n",
       "    .dataframe tbody tr th {\n",
       "        vertical-align: top;\n",
       "    }\n",
       "\n",
       "    .dataframe thead th {\n",
       "        text-align: right;\n",
       "    }\n",
       "</style>\n",
       "<table border=\"1\" class=\"dataframe\">\n",
       "  <thead>\n",
       "    <tr style=\"text-align: right;\">\n",
       "      <th></th>\n",
       "      <th>LIMIT_BAL</th>\n",
       "      <th>SEX</th>\n",
       "      <th>EDUCATION</th>\n",
       "      <th>MARRIAGE</th>\n",
       "      <th>AGE</th>\n",
       "      <th>PAY_0</th>\n",
       "      <th>PAY_2</th>\n",
       "      <th>PAY_3</th>\n",
       "      <th>PAY_4</th>\n",
       "      <th>PAY_5</th>\n",
       "      <th>...</th>\n",
       "      <th>BILL_AMT4</th>\n",
       "      <th>BILL_AMT5</th>\n",
       "      <th>BILL_AMT6</th>\n",
       "      <th>PAY_AMT1</th>\n",
       "      <th>PAY_AMT2</th>\n",
       "      <th>PAY_AMT3</th>\n",
       "      <th>PAY_AMT4</th>\n",
       "      <th>PAY_AMT5</th>\n",
       "      <th>PAY_AMT6</th>\n",
       "      <th>default.payment.next.month</th>\n",
       "    </tr>\n",
       "  </thead>\n",
       "  <tbody>\n",
       "    <tr>\n",
       "      <th>0</th>\n",
       "      <td>20000.0</td>\n",
       "      <td>2</td>\n",
       "      <td>2</td>\n",
       "      <td>1</td>\n",
       "      <td>24</td>\n",
       "      <td>2</td>\n",
       "      <td>2</td>\n",
       "      <td>-1</td>\n",
       "      <td>-1</td>\n",
       "      <td>-2</td>\n",
       "      <td>...</td>\n",
       "      <td>0.0</td>\n",
       "      <td>0.0</td>\n",
       "      <td>0.0</td>\n",
       "      <td>0.0</td>\n",
       "      <td>689.0</td>\n",
       "      <td>0.0</td>\n",
       "      <td>0.0</td>\n",
       "      <td>0.0</td>\n",
       "      <td>0.0</td>\n",
       "      <td>1</td>\n",
       "    </tr>\n",
       "    <tr>\n",
       "      <th>1</th>\n",
       "      <td>120000.0</td>\n",
       "      <td>2</td>\n",
       "      <td>2</td>\n",
       "      <td>2</td>\n",
       "      <td>26</td>\n",
       "      <td>-1</td>\n",
       "      <td>2</td>\n",
       "      <td>0</td>\n",
       "      <td>0</td>\n",
       "      <td>0</td>\n",
       "      <td>...</td>\n",
       "      <td>3272.0</td>\n",
       "      <td>3455.0</td>\n",
       "      <td>3261.0</td>\n",
       "      <td>0.0</td>\n",
       "      <td>1000.0</td>\n",
       "      <td>1000.0</td>\n",
       "      <td>1000.0</td>\n",
       "      <td>0.0</td>\n",
       "      <td>2000.0</td>\n",
       "      <td>1</td>\n",
       "    </tr>\n",
       "    <tr>\n",
       "      <th>2</th>\n",
       "      <td>90000.0</td>\n",
       "      <td>2</td>\n",
       "      <td>2</td>\n",
       "      <td>2</td>\n",
       "      <td>34</td>\n",
       "      <td>0</td>\n",
       "      <td>0</td>\n",
       "      <td>0</td>\n",
       "      <td>0</td>\n",
       "      <td>0</td>\n",
       "      <td>...</td>\n",
       "      <td>14331.0</td>\n",
       "      <td>14948.0</td>\n",
       "      <td>15549.0</td>\n",
       "      <td>1518.0</td>\n",
       "      <td>1500.0</td>\n",
       "      <td>1000.0</td>\n",
       "      <td>1000.0</td>\n",
       "      <td>1000.0</td>\n",
       "      <td>5000.0</td>\n",
       "      <td>0</td>\n",
       "    </tr>\n",
       "    <tr>\n",
       "      <th>3</th>\n",
       "      <td>50000.0</td>\n",
       "      <td>2</td>\n",
       "      <td>2</td>\n",
       "      <td>1</td>\n",
       "      <td>37</td>\n",
       "      <td>0</td>\n",
       "      <td>0</td>\n",
       "      <td>0</td>\n",
       "      <td>0</td>\n",
       "      <td>0</td>\n",
       "      <td>...</td>\n",
       "      <td>28314.0</td>\n",
       "      <td>28959.0</td>\n",
       "      <td>29547.0</td>\n",
       "      <td>2000.0</td>\n",
       "      <td>2019.0</td>\n",
       "      <td>1200.0</td>\n",
       "      <td>1100.0</td>\n",
       "      <td>1069.0</td>\n",
       "      <td>1000.0</td>\n",
       "      <td>0</td>\n",
       "    </tr>\n",
       "    <tr>\n",
       "      <th>4</th>\n",
       "      <td>50000.0</td>\n",
       "      <td>1</td>\n",
       "      <td>2</td>\n",
       "      <td>1</td>\n",
       "      <td>57</td>\n",
       "      <td>-1</td>\n",
       "      <td>0</td>\n",
       "      <td>-1</td>\n",
       "      <td>0</td>\n",
       "      <td>0</td>\n",
       "      <td>...</td>\n",
       "      <td>20940.0</td>\n",
       "      <td>19146.0</td>\n",
       "      <td>19131.0</td>\n",
       "      <td>2000.0</td>\n",
       "      <td>36681.0</td>\n",
       "      <td>10000.0</td>\n",
       "      <td>9000.0</td>\n",
       "      <td>689.0</td>\n",
       "      <td>679.0</td>\n",
       "      <td>0</td>\n",
       "    </tr>\n",
       "  </tbody>\n",
       "</table>\n",
       "<p>5 rows × 24 columns</p>\n",
       "</div>"
      ],
      "text/plain": [
       "   LIMIT_BAL  SEX  EDUCATION  MARRIAGE  AGE  PAY_0  PAY_2  PAY_3  PAY_4  \\\n",
       "0    20000.0    2          2         1   24      2      2     -1     -1   \n",
       "1   120000.0    2          2         2   26     -1      2      0      0   \n",
       "2    90000.0    2          2         2   34      0      0      0      0   \n",
       "3    50000.0    2          2         1   37      0      0      0      0   \n",
       "4    50000.0    1          2         1   57     -1      0     -1      0   \n",
       "\n",
       "   PAY_5             ...              BILL_AMT4  BILL_AMT5  BILL_AMT6  \\\n",
       "0     -2             ...                    0.0        0.0        0.0   \n",
       "1      0             ...                 3272.0     3455.0     3261.0   \n",
       "2      0             ...                14331.0    14948.0    15549.0   \n",
       "3      0             ...                28314.0    28959.0    29547.0   \n",
       "4      0             ...                20940.0    19146.0    19131.0   \n",
       "\n",
       "   PAY_AMT1  PAY_AMT2  PAY_AMT3  PAY_AMT4  PAY_AMT5  PAY_AMT6  \\\n",
       "0       0.0     689.0       0.0       0.0       0.0       0.0   \n",
       "1       0.0    1000.0    1000.0    1000.0       0.0    2000.0   \n",
       "2    1518.0    1500.0    1000.0    1000.0    1000.0    5000.0   \n",
       "3    2000.0    2019.0    1200.0    1100.0    1069.0    1000.0   \n",
       "4    2000.0   36681.0   10000.0    9000.0     689.0     679.0   \n",
       "\n",
       "   default.payment.next.month  \n",
       "0                           1  \n",
       "1                           1  \n",
       "2                           0  \n",
       "3                           0  \n",
       "4                           0  \n",
       "\n",
       "[5 rows x 24 columns]"
      ]
     },
     "execution_count": 6,
     "metadata": {},
     "output_type": "execute_result"
    }
   ],
   "source": [
    "credit.head()"
   ]
  },
  {
   "cell_type": "code",
   "execution_count": null,
   "metadata": {},
   "outputs": [],
   "source": [
    "credit = credit.drop('ID', axis=1)"
   ]
  },
  {
   "cell_type": "code",
   "execution_count": 8,
   "metadata": {},
   "outputs": [
    {
     "data": {
      "text/html": [
       "<div>\n",
       "<style scoped>\n",
       "    .dataframe tbody tr th:only-of-type {\n",
       "        vertical-align: middle;\n",
       "    }\n",
       "\n",
       "    .dataframe tbody tr th {\n",
       "        vertical-align: top;\n",
       "    }\n",
       "\n",
       "    .dataframe thead th {\n",
       "        text-align: right;\n",
       "    }\n",
       "</style>\n",
       "<table border=\"1\" class=\"dataframe\">\n",
       "  <thead>\n",
       "    <tr style=\"text-align: right;\">\n",
       "      <th></th>\n",
       "      <th>LIMIT_BAL</th>\n",
       "      <th>SEX</th>\n",
       "      <th>EDUCATION</th>\n",
       "      <th>MARRIAGE</th>\n",
       "      <th>AGE</th>\n",
       "      <th>PAY_0</th>\n",
       "      <th>PAY_2</th>\n",
       "      <th>PAY_3</th>\n",
       "      <th>PAY_4</th>\n",
       "      <th>PAY_5</th>\n",
       "      <th>...</th>\n",
       "      <th>BILL_AMT4</th>\n",
       "      <th>BILL_AMT5</th>\n",
       "      <th>BILL_AMT6</th>\n",
       "      <th>PAY_AMT1</th>\n",
       "      <th>PAY_AMT2</th>\n",
       "      <th>PAY_AMT3</th>\n",
       "      <th>PAY_AMT4</th>\n",
       "      <th>PAY_AMT5</th>\n",
       "      <th>PAY_AMT6</th>\n",
       "      <th>default.payment.next.month</th>\n",
       "    </tr>\n",
       "  </thead>\n",
       "  <tbody>\n",
       "    <tr>\n",
       "      <th>count</th>\n",
       "      <td>30000.000000</td>\n",
       "      <td>30000.000000</td>\n",
       "      <td>30000.000000</td>\n",
       "      <td>30000.000000</td>\n",
       "      <td>30000.000000</td>\n",
       "      <td>30000.000000</td>\n",
       "      <td>30000.000000</td>\n",
       "      <td>30000.000000</td>\n",
       "      <td>30000.000000</td>\n",
       "      <td>30000.000000</td>\n",
       "      <td>...</td>\n",
       "      <td>30000.000000</td>\n",
       "      <td>30000.000000</td>\n",
       "      <td>30000.000000</td>\n",
       "      <td>30000.000000</td>\n",
       "      <td>3.000000e+04</td>\n",
       "      <td>30000.00000</td>\n",
       "      <td>30000.000000</td>\n",
       "      <td>30000.000000</td>\n",
       "      <td>30000.000000</td>\n",
       "      <td>30000.000000</td>\n",
       "    </tr>\n",
       "    <tr>\n",
       "      <th>mean</th>\n",
       "      <td>167484.322667</td>\n",
       "      <td>1.603733</td>\n",
       "      <td>1.853133</td>\n",
       "      <td>1.551867</td>\n",
       "      <td>35.485500</td>\n",
       "      <td>-0.016700</td>\n",
       "      <td>-0.133767</td>\n",
       "      <td>-0.166200</td>\n",
       "      <td>-0.220667</td>\n",
       "      <td>-0.266200</td>\n",
       "      <td>...</td>\n",
       "      <td>43262.948967</td>\n",
       "      <td>40311.400967</td>\n",
       "      <td>38871.760400</td>\n",
       "      <td>5663.580500</td>\n",
       "      <td>5.921163e+03</td>\n",
       "      <td>5225.68150</td>\n",
       "      <td>4826.076867</td>\n",
       "      <td>4799.387633</td>\n",
       "      <td>5215.502567</td>\n",
       "      <td>0.221200</td>\n",
       "    </tr>\n",
       "    <tr>\n",
       "      <th>std</th>\n",
       "      <td>129747.661567</td>\n",
       "      <td>0.489129</td>\n",
       "      <td>0.790349</td>\n",
       "      <td>0.521970</td>\n",
       "      <td>9.217904</td>\n",
       "      <td>1.123802</td>\n",
       "      <td>1.197186</td>\n",
       "      <td>1.196868</td>\n",
       "      <td>1.169139</td>\n",
       "      <td>1.133187</td>\n",
       "      <td>...</td>\n",
       "      <td>64332.856134</td>\n",
       "      <td>60797.155770</td>\n",
       "      <td>59554.107537</td>\n",
       "      <td>16563.280354</td>\n",
       "      <td>2.304087e+04</td>\n",
       "      <td>17606.96147</td>\n",
       "      <td>15666.159744</td>\n",
       "      <td>15278.305679</td>\n",
       "      <td>17777.465775</td>\n",
       "      <td>0.415062</td>\n",
       "    </tr>\n",
       "    <tr>\n",
       "      <th>min</th>\n",
       "      <td>10000.000000</td>\n",
       "      <td>1.000000</td>\n",
       "      <td>0.000000</td>\n",
       "      <td>0.000000</td>\n",
       "      <td>21.000000</td>\n",
       "      <td>-2.000000</td>\n",
       "      <td>-2.000000</td>\n",
       "      <td>-2.000000</td>\n",
       "      <td>-2.000000</td>\n",
       "      <td>-2.000000</td>\n",
       "      <td>...</td>\n",
       "      <td>-170000.000000</td>\n",
       "      <td>-81334.000000</td>\n",
       "      <td>-339603.000000</td>\n",
       "      <td>0.000000</td>\n",
       "      <td>0.000000e+00</td>\n",
       "      <td>0.00000</td>\n",
       "      <td>0.000000</td>\n",
       "      <td>0.000000</td>\n",
       "      <td>0.000000</td>\n",
       "      <td>0.000000</td>\n",
       "    </tr>\n",
       "    <tr>\n",
       "      <th>25%</th>\n",
       "      <td>50000.000000</td>\n",
       "      <td>1.000000</td>\n",
       "      <td>1.000000</td>\n",
       "      <td>1.000000</td>\n",
       "      <td>28.000000</td>\n",
       "      <td>-1.000000</td>\n",
       "      <td>-1.000000</td>\n",
       "      <td>-1.000000</td>\n",
       "      <td>-1.000000</td>\n",
       "      <td>-1.000000</td>\n",
       "      <td>...</td>\n",
       "      <td>2326.750000</td>\n",
       "      <td>1763.000000</td>\n",
       "      <td>1256.000000</td>\n",
       "      <td>1000.000000</td>\n",
       "      <td>8.330000e+02</td>\n",
       "      <td>390.00000</td>\n",
       "      <td>296.000000</td>\n",
       "      <td>252.500000</td>\n",
       "      <td>117.750000</td>\n",
       "      <td>0.000000</td>\n",
       "    </tr>\n",
       "    <tr>\n",
       "      <th>50%</th>\n",
       "      <td>140000.000000</td>\n",
       "      <td>2.000000</td>\n",
       "      <td>2.000000</td>\n",
       "      <td>2.000000</td>\n",
       "      <td>34.000000</td>\n",
       "      <td>0.000000</td>\n",
       "      <td>0.000000</td>\n",
       "      <td>0.000000</td>\n",
       "      <td>0.000000</td>\n",
       "      <td>0.000000</td>\n",
       "      <td>...</td>\n",
       "      <td>19052.000000</td>\n",
       "      <td>18104.500000</td>\n",
       "      <td>17071.000000</td>\n",
       "      <td>2100.000000</td>\n",
       "      <td>2.009000e+03</td>\n",
       "      <td>1800.00000</td>\n",
       "      <td>1500.000000</td>\n",
       "      <td>1500.000000</td>\n",
       "      <td>1500.000000</td>\n",
       "      <td>0.000000</td>\n",
       "    </tr>\n",
       "    <tr>\n",
       "      <th>75%</th>\n",
       "      <td>240000.000000</td>\n",
       "      <td>2.000000</td>\n",
       "      <td>2.000000</td>\n",
       "      <td>2.000000</td>\n",
       "      <td>41.000000</td>\n",
       "      <td>0.000000</td>\n",
       "      <td>0.000000</td>\n",
       "      <td>0.000000</td>\n",
       "      <td>0.000000</td>\n",
       "      <td>0.000000</td>\n",
       "      <td>...</td>\n",
       "      <td>54506.000000</td>\n",
       "      <td>50190.500000</td>\n",
       "      <td>49198.250000</td>\n",
       "      <td>5006.000000</td>\n",
       "      <td>5.000000e+03</td>\n",
       "      <td>4505.00000</td>\n",
       "      <td>4013.250000</td>\n",
       "      <td>4031.500000</td>\n",
       "      <td>4000.000000</td>\n",
       "      <td>0.000000</td>\n",
       "    </tr>\n",
       "    <tr>\n",
       "      <th>max</th>\n",
       "      <td>1000000.000000</td>\n",
       "      <td>2.000000</td>\n",
       "      <td>6.000000</td>\n",
       "      <td>3.000000</td>\n",
       "      <td>79.000000</td>\n",
       "      <td>8.000000</td>\n",
       "      <td>8.000000</td>\n",
       "      <td>8.000000</td>\n",
       "      <td>8.000000</td>\n",
       "      <td>8.000000</td>\n",
       "      <td>...</td>\n",
       "      <td>891586.000000</td>\n",
       "      <td>927171.000000</td>\n",
       "      <td>961664.000000</td>\n",
       "      <td>873552.000000</td>\n",
       "      <td>1.684259e+06</td>\n",
       "      <td>896040.00000</td>\n",
       "      <td>621000.000000</td>\n",
       "      <td>426529.000000</td>\n",
       "      <td>528666.000000</td>\n",
       "      <td>1.000000</td>\n",
       "    </tr>\n",
       "  </tbody>\n",
       "</table>\n",
       "<p>8 rows × 24 columns</p>\n",
       "</div>"
      ],
      "text/plain": [
       "            LIMIT_BAL           SEX     EDUCATION      MARRIAGE           AGE  \\\n",
       "count    30000.000000  30000.000000  30000.000000  30000.000000  30000.000000   \n",
       "mean    167484.322667      1.603733      1.853133      1.551867     35.485500   \n",
       "std     129747.661567      0.489129      0.790349      0.521970      9.217904   \n",
       "min      10000.000000      1.000000      0.000000      0.000000     21.000000   \n",
       "25%      50000.000000      1.000000      1.000000      1.000000     28.000000   \n",
       "50%     140000.000000      2.000000      2.000000      2.000000     34.000000   \n",
       "75%     240000.000000      2.000000      2.000000      2.000000     41.000000   \n",
       "max    1000000.000000      2.000000      6.000000      3.000000     79.000000   \n",
       "\n",
       "              PAY_0         PAY_2         PAY_3         PAY_4         PAY_5  \\\n",
       "count  30000.000000  30000.000000  30000.000000  30000.000000  30000.000000   \n",
       "mean      -0.016700     -0.133767     -0.166200     -0.220667     -0.266200   \n",
       "std        1.123802      1.197186      1.196868      1.169139      1.133187   \n",
       "min       -2.000000     -2.000000     -2.000000     -2.000000     -2.000000   \n",
       "25%       -1.000000     -1.000000     -1.000000     -1.000000     -1.000000   \n",
       "50%        0.000000      0.000000      0.000000      0.000000      0.000000   \n",
       "75%        0.000000      0.000000      0.000000      0.000000      0.000000   \n",
       "max        8.000000      8.000000      8.000000      8.000000      8.000000   \n",
       "\n",
       "                  ...                  BILL_AMT4      BILL_AMT5  \\\n",
       "count             ...               30000.000000   30000.000000   \n",
       "mean              ...               43262.948967   40311.400967   \n",
       "std               ...               64332.856134   60797.155770   \n",
       "min               ...             -170000.000000  -81334.000000   \n",
       "25%               ...                2326.750000    1763.000000   \n",
       "50%               ...               19052.000000   18104.500000   \n",
       "75%               ...               54506.000000   50190.500000   \n",
       "max               ...              891586.000000  927171.000000   \n",
       "\n",
       "           BILL_AMT6       PAY_AMT1      PAY_AMT2      PAY_AMT3  \\\n",
       "count   30000.000000   30000.000000  3.000000e+04   30000.00000   \n",
       "mean    38871.760400    5663.580500  5.921163e+03    5225.68150   \n",
       "std     59554.107537   16563.280354  2.304087e+04   17606.96147   \n",
       "min   -339603.000000       0.000000  0.000000e+00       0.00000   \n",
       "25%      1256.000000    1000.000000  8.330000e+02     390.00000   \n",
       "50%     17071.000000    2100.000000  2.009000e+03    1800.00000   \n",
       "75%     49198.250000    5006.000000  5.000000e+03    4505.00000   \n",
       "max    961664.000000  873552.000000  1.684259e+06  896040.00000   \n",
       "\n",
       "            PAY_AMT4       PAY_AMT5       PAY_AMT6  default.payment.next.month  \n",
       "count   30000.000000   30000.000000   30000.000000                30000.000000  \n",
       "mean     4826.076867    4799.387633    5215.502567                    0.221200  \n",
       "std     15666.159744   15278.305679   17777.465775                    0.415062  \n",
       "min         0.000000       0.000000       0.000000                    0.000000  \n",
       "25%       296.000000     252.500000     117.750000                    0.000000  \n",
       "50%      1500.000000    1500.000000    1500.000000                    0.000000  \n",
       "75%      4013.250000    4031.500000    4000.000000                    0.000000  \n",
       "max    621000.000000  426529.000000  528666.000000                    1.000000  \n",
       "\n",
       "[8 rows x 24 columns]"
      ]
     },
     "execution_count": 8,
     "metadata": {},
     "output_type": "execute_result"
    }
   ],
   "source": [
    "credit.describe()"
   ]
  },
  {
   "cell_type": "code",
   "execution_count": 9,
   "metadata": {},
   "outputs": [
    {
     "data": {
      "text/plain": [
       "2    18112\n",
       "1    11888\n",
       "Name: SEX, dtype: int64"
      ]
     },
     "execution_count": 9,
     "metadata": {},
     "output_type": "execute_result"
    }
   ],
   "source": [
    "credit['SEX'].value_counts()"
   ]
  },
  {
   "cell_type": "code",
   "execution_count": 10,
   "metadata": {},
   "outputs": [
    {
     "data": {
      "text/plain": [
       "2    15964\n",
       "1    13659\n",
       "3      323\n",
       "0       54\n",
       "Name: MARRIAGE, dtype: int64"
      ]
     },
     "execution_count": 10,
     "metadata": {},
     "output_type": "execute_result"
    }
   ],
   "source": [
    "credit['MARRIAGE'].value_counts()"
   ]
  },
  {
   "cell_type": "code",
   "execution_count": 12,
   "metadata": {},
   "outputs": [
    {
     "data": {
      "text/plain": [
       "2    15964\n",
       "1    13659\n",
       "3      377\n",
       "Name: MARRIAGE, dtype: int64"
      ]
     },
     "execution_count": 12,
     "metadata": {},
     "output_type": "execute_result"
    }
   ],
   "source": [
    "credit[\"MARRIAGE\"]=credit[\"MARRIAGE\"].map({0:3,1:1,2:2,3:3})\n",
    "credit['MARRIAGE'].value_counts()"
   ]
  },
  {
   "cell_type": "code",
   "execution_count": 14,
   "metadata": {},
   "outputs": [
    {
     "data": {
      "text/plain": [
       "<matplotlib.axes._subplots.AxesSubplot at 0x7f8c0d705668>"
      ]
     },
     "execution_count": 14,
     "metadata": {},
     "output_type": "execute_result"
    },
    {
     "data": {
      "image/png": "[encoded data removed]",
      "text/plain": [
       "<Figure size 432x288 with 1 Axes>"
      ]
     },
     "metadata": {},
     "output_type": "display_data"
    }
   ],
   "source": [
    "credit['LIMIT_BAL'].hist(bins=100, color='orange')"
   ]
  },
  {
   "cell_type": "code",
   "execution_count": 15,
   "metadata": {},
   "outputs": [
    {
     "data": {
      "text/plain": [
       "<matplotlib.axes._subplots.AxesSubplot at 0x7f8c0d6a0400>"
      ]
     },
     "execution_count": 15,
     "metadata": {},
     "output_type": "execute_result"
    },
    {
     "data": {
      "image/png": "[encoded data removed]",
      "text/plain": [
       "<Figure size 432x288 with 1 Axes>"
      ]
     },
     "metadata": {},
     "output_type": "display_data"
    }
   ],
   "source": [
    "\n",
    "\n",
    "credit.boxplot(column=['AGE'])\n",
    "\n"
   ]
  },
  {
   "cell_type": "code",
   "execution_count": 17,
   "metadata": {},
   "outputs": [
    {
     "data": {
      "text/plain": [
       "LIMIT_BAL                     0\n",
       "SEX                           0\n",
       "EDUCATION                     0\n",
       "MARRIAGE                      0\n",
       "AGE                           0\n",
       "PAY_0                         0\n",
       "PAY_2                         0\n",
       "PAY_3                         0\n",
       "PAY_4                         0\n",
       "PAY_5                         0\n",
       "PAY_6                         0\n",
       "BILL_AMT1                     0\n",
       "BILL_AMT2                     0\n",
       "BILL_AMT3                     0\n",
       "BILL_AMT4                     0\n",
       "BILL_AMT5                     0\n",
       "BILL_AMT6                     0\n",
       "PAY_AMT1                      0\n",
       "PAY_AMT2                      0\n",
       "PAY_AMT3                      0\n",
       "PAY_AMT4                      0\n",
       "PAY_AMT5                      0\n",
       "PAY_AMT6                      0\n",
       "default.payment.next.month    0\n",
       "dtype: int64"
      ]
     },
     "execution_count": 17,
     "metadata": {},
     "output_type": "execute_result"
    }
   ],
   "source": [
    "credit.apply(lambda x: sum(x.isnull()),axis=0) "
   ]
  },
  {
   "cell_type": "markdown",
   "metadata": {},
   "source": [
    "# Understanding feature importance"
   ]
  },
  {
   "cell_type": "code",
   "execution_count": 18,
   "metadata": {},
   "outputs": [
    {
     "data": {
      "text/plain": [
       "GradientBoostingClassifier(criterion='friedman_mse', init=None,\n",
       "              learning_rate=0.1, loss='deviance', max_depth=3,\n",
       "              max_features=None, max_leaf_nodes=None,\n",
       "              min_impurity_decrease=0.0, min_impurity_split=None,\n",
       "              min_samples_leaf=1, min_samples_split=2,\n",
       "              min_weight_fraction_leaf=0.0, n_estimators=100,\n",
       "              presort='auto', random_state=None, subsample=1.0, verbose=0,\n",
       "              warm_start=False)"
      ]
     },
     "execution_count": 18,
     "metadata": {},
     "output_type": "execute_result"
    }
   ],
   "source": [
    "from sklearn.ensemble import GradientBoostingClassifier\n",
    "X = credit.drop('default.payment.next.month', axis = 1)\n",
    "Y = credit['default.payment.next.month']\n",
    "\n",
    "clf = GradientBoostingClassifier()\n",
    "clf.fit(X,Y)"
   ]
  },
  {
   "cell_type": "code",
   "execution_count": 19,
   "metadata": {},
   "outputs": [],
   "source": [
    "importances = clf.feature_importances_"
   ]
  },
  {
   "cell_type": "code",
   "execution_count": 20,
   "metadata": {},
   "outputs": [
    {
     "name": "stdout",
     "output_type": "stream",
     "text": [
      " 1) LIMIT_BAL                      0.159011\n",
      " 2) SEX                            0.129140\n",
      " 3) EDUCATION                      0.073000\n",
      " 4) MARRIAGE                       0.061330\n",
      " 5) AGE                            0.047420\n",
      " 6) PAY_0                          0.046233\n",
      " 7) PAY_2                          0.043208\n",
      " 8) PAY_3                          0.042187\n",
      " 9) PAY_4                          0.041037\n",
      "10) PAY_5                          0.039023\n",
      "11) PAY_6                          0.037114\n",
      "12) BILL_AMT1                      0.036750\n",
      "13) BILL_AMT2                      0.033788\n",
      "14) BILL_AMT3                      0.033117\n",
      "15) BILL_AMT4                      0.025584\n",
      "16) BILL_AMT5                      0.023273\n",
      "17) BILL_AMT6                      0.022992\n",
      "18) PAY_AMT1                       0.021992\n",
      "19) PAY_AMT2                       0.020754\n",
      "20) PAY_AMT3                       0.018839\n",
      "21) PAY_AMT4                       0.017455\n",
      "22) PAY_AMT5                       0.016302\n",
      "23) PAY_AMT6                       0.010452\n"
     ]
    }
   ],
   "source": [
    "import numpy as np\n",
    "features_label = X.columns[0:]\n",
    "indices = np. argsort(importances)[::-1]\n",
    "for i in range(X.shape[1]):\n",
    "    print (\"%2d) %-*s %f\" % (i + 1, 30, features_label[i],importances[indices[i]]))"
   ]
  },
  {
   "cell_type": "code",
   "execution_count": 21,
   "metadata": {},
   "outputs": [
    {
     "data": {
      "image/png": "[encoded data removed]",
      "text/plain": [
       "<Figure size 432x288 with 1 Axes>"
      ]
     },
     "metadata": {},
     "output_type": "display_data"
    }
   ],
   "source": [
    "plt.pyplot.title('Feature Importances')\n",
    "plt.pyplot.bar(range(X.shape[1]),importances[indices], color=\"green\", align=\"center\")\n",
    "plt.pyplot.xticks(range(X.shape[1]),features_label, rotation=90)\n",
    "plt.pyplot.xlim([-1, X.shape[1]])\n",
    "plt.pyplot.show()"
   ]
  },
  {
   "cell_type": "markdown",
   "metadata": {},
   "source": [
    "# Feature engineering and data preparation"
   ]
  },
  {
   "cell_type": "code",
   "execution_count": 22,
   "metadata": {},
   "outputs": [
    {
     "data": {
      "text/plain": [
       "array([[ 0.01010101,  1.        ,  0.33333333, ...,  0.        ,\n",
       "         0.        ,  1.        ],\n",
       "       [ 0.11111111,  1.        ,  0.33333333, ...,  0.        ,\n",
       "         0.00378311,  1.        ],\n",
       "       [ 0.08080808,  1.        ,  0.33333333, ...,  0.00234451,\n",
       "         0.00945777,  0.        ],\n",
       "       ..., \n",
       "       [ 0.02020202,  0.        ,  0.33333333, ...,  0.00468901,\n",
       "         0.00586382,  1.        ],\n",
       "       [ 0.07070707,  0.        ,  0.5       , ...,  0.12417444,\n",
       "         0.00341236,  1.        ],\n",
       "       [ 0.04040404,  0.        ,  0.33333333, ...,  0.00234451,\n",
       "         0.00189155,  1.        ]])"
      ]
     },
     "execution_count": 22,
     "metadata": {},
     "output_type": "execute_result"
    }
   ],
   "source": [
    "from sklearn.preprocessing import MinMaxScaler\n",
    "\n",
    "scaler = MinMaxScaler()\n",
    "scaler.fit_transform(credit)\n"
   ]
  },
  {
   "cell_type": "code",
   "execution_count": 23,
   "metadata": {},
   "outputs": [],
   "source": [
    "from sklearn.model_selection import train_test_split\n",
    "\n",
    "train, test = train_test_split(credit, test_size = 0.3)\n",
    "\n",
    "X_train = train.drop('default.payment.next.month',axis=1)\n",
    "\n",
    "y_train = train['default.payment.next.month']\n",
    "\n",
    "X_test =  test.drop('default.payment.next.month',axis=1)\n",
    "\n",
    "y_test = test['default.payment.next.month']"
   ]
  },
  {
   "cell_type": "code",
   "execution_count": 26,
   "metadata": {},
   "outputs": [],
   "source": [
    "import os\n",
    "os.mkdir('data/train')\n",
    "train.to_csv(\"data/train/train.csv\", index=False)\n",
    "os.mkdir('data/test')\n",
    "test.to_csv(\"data/test/test.csv\", index=False)"
   ]
  },
  {
   "cell_type": "markdown",
   "metadata": {},
   "source": [
    "# Using Logistic Regression Algorithm"
   ]
  },
  {
   "cell_type": "code",
   "execution_count": 29,
   "metadata": {},
   "outputs": [
    {
     "data": {
      "text/plain": [
       "LogisticRegression(C=1.0, class_weight=None, dual=False, fit_intercept=True,\n",
       "          intercept_scaling=1, max_iter=100, multi_class='ovr', n_jobs=1,\n",
       "          penalty='l2', random_state=10, solver='liblinear', tol=0.0001,\n",
       "          verbose=0, warm_start=False)"
      ]
     },
     "execution_count": 29,
     "metadata": {},
     "output_type": "execute_result"
    }
   ],
   "source": [
    "#Train benchmark model(Log Regression)\n",
    "from sklearn.linear_model import LogisticRegression\n",
    "clf0 = LogisticRegression(random_state=10)\n",
    "clf0.fit(X_train, y_train)"
   ]
  },
  {
   "cell_type": "code",
   "execution_count": 30,
   "metadata": {},
   "outputs": [
    {
     "name": "stdout",
     "output_type": "stream",
     "text": [
      "accuracy: 0.778666666667\n"
     ]
    }
   ],
   "source": [
    "from sklearn.metrics import accuracy_score\n",
    "y_pred = clf0.predict(X_test)\n",
    "accuracy_regr=accuracy_score(y_test, y_pred)\n",
    "print(\"accuracy:\", accuracy_regr)"
   ]
  },
  {
   "cell_type": "markdown",
   "metadata": {},
   "source": [
    "# Using GradientBoosting algorithm"
   ]
  },
  {
   "cell_type": "code",
   "execution_count": 31,
   "metadata": {},
   "outputs": [
    {
     "data": {
      "text/plain": [
       "GradientBoostingClassifier(criterion='friedman_mse', init=None,\n",
       "              learning_rate=0.1, loss='deviance', max_depth=3,\n",
       "              max_features=None, max_leaf_nodes=None,\n",
       "              min_impurity_decrease=0.0, min_impurity_split=None,\n",
       "              min_samples_leaf=1, min_samples_split=2,\n",
       "              min_weight_fraction_leaf=0.0, n_estimators=100,\n",
       "              presort='auto', random_state=10, subsample=1.0, verbose=0,\n",
       "              warm_start=False)"
      ]
     },
     "execution_count": 31,
     "metadata": {},
     "output_type": "execute_result"
    }
   ],
   "source": [
    "#gradeint boost\n",
    "from sklearn.ensemble import GradientBoostingClassifier\n",
    "clf2=GradientBoostingClassifier(random_state=10)\n",
    "clf2.fit(X_train,y_train)"
   ]
  },
  {
   "cell_type": "code",
   "execution_count": 32,
   "metadata": {},
   "outputs": [
    {
     "name": "stdout",
     "output_type": "stream",
     "text": [
      "accuracy: 0.819888888889\n"
     ]
    }
   ],
   "source": [
    "y_pred2 = clf2.predict(X_test)\n",
    "accuracy_gb=accuracy_score(y_test, y_pred2)\n",
    "print(\"accuracy:\", accuracy_gb)"
   ]
  },
  {
   "cell_type": "markdown",
   "metadata": {},
   "source": [
    "# Using MXNet MLP"
   ]
  },
  {
   "cell_type": "code",
   "execution_count": 34,
   "metadata": {},
   "outputs": [],
   "source": [
    "import mxnet as mx\n",
    "import numpy as np\n",
    "\n",
    "# Enable logging so we will see output during the training\n",
    "import logging\n",
    "logger = logging.getLogger()\n",
    "logger.setLevel(logging.DEBUG)"
   ]
  },
  {
   "cell_type": "code",
   "execution_count": 35,
   "metadata": {},
   "outputs": [],
   "source": [
    "Batch_Size = 50\n",
    "trainIter = mx.io.NDArrayIter(X_train.values, y_train.values, Batch_Size, shuffle=True)\n",
    "testIter = mx.io.NDArrayIter(X_test.values, y_test.values, Batch_Size, shuffle=True)"
   ]
  },
  {
   "cell_type": "code",
   "execution_count": 38,
   "metadata": {},
   "outputs": [],
   "source": [
    "def build_graph():\n",
    "    \n",
    "    \n",
    "    input_x = mx.sym.Variable('data')\n",
    "    input_y = mx.sym.Variable('softmax_label')\n",
    "\n",
    "    fc1  = mx.sym.FullyConnected(data=input_x, num_hidden=250)\n",
    "    act1 = mx.sym.Activation(data=fc1, act_type=\"relu\") \n",
    "    fc2  = mx.sym.FullyConnected(data=act1, num_hidden=250)\n",
    "    act2 = mx.sym.Activation(data=fc2, act_type=\"relu\") \n",
    "\n",
    "    fc3 = mx.sym.FullyConnected(data=act2, num_hidden=2) \n",
    "\n",
    "    mlp = mx.sym.SoftmaxOutput(data=fc3, label=input_y, name='softmax')\n",
    "    return mlp\n",
    "\n",
    "\n",
    "mlp = build_graph()"
   ]
  },
  {
   "cell_type": "code",
   "execution_count": 39,
   "metadata": {},
   "outputs": [
    {
     "data": {
      "image/svg+xml": [
       "<?xml version=\"1.0\" encoding=\"UTF-8\" standalone=\"no\"?>\n",
       "<!DOCTYPE svg PUBLIC \"-//W3C//DTD SVG 1.1//EN\"\n",
       " \"http://www.w3.org/Graphics/SVG/1.1/DTD/svg11.dtd\">\n",
       "<!-- Generated by graphviz version 2.40.1 (20161225.0304)\n",
       " -->\n",
       "<!-- Title: plot Pages: 1 -->\n",
       "<svg width=\"214pt\" height=\"630pt\"\n",
       " viewBox=\"0.00 0.00 214.00 630.00\" xmlns=\"http://www.w3.org/2000/svg\" xmlns:xlink=\"http://www.w3.org/1999/xlink\">\n",
       "<g id=\"graph0\" class=\"graph\" transform=\"scale(1 1) rotate(0) translate(4 626)\">\n",
       "<title>plot</title>\n",
       "<polygon fill=\"#ffffff\" stroke=\"transparent\" points=\"-4,4 -4,-626 210,-626 210,4 -4,4\"/>\n",
       "<!-- data -->\n",
       "<g id=\"node1\" class=\"node\">\n",
       "<title>data</title>\n",
       "<ellipse fill=\"#8dd3c7\" stroke=\"#000000\" cx=\"47\" cy=\"-29\" rx=\"47\" ry=\"29\"/>\n",
       "<text text-anchor=\"middle\" x=\"47\" y=\"-25.3\" font-family=\"Times,serif\" font-size=\"14.00\" fill=\"#000000\">data</text>\n",
       "</g>\n",
       "<!-- fullyconnected3 -->\n",
       "<g id=\"node2\" class=\"node\">\n",
       "<title>fullyconnected3</title>\n",
       "<polygon fill=\"#fb8072\" stroke=\"#000000\" points=\"94,-152 0,-152 0,-94 94,-94 94,-152\"/>\n",
       "<text text-anchor=\"middle\" x=\"47\" y=\"-126.8\" font-family=\"Times,serif\" font-size=\"14.00\" fill=\"#000000\">FullyConnected</text>\n",
       "<text text-anchor=\"middle\" x=\"47\" y=\"-111.8\" font-family=\"Times,serif\" font-size=\"14.00\" fill=\"#000000\">250</text>\n",
       "</g>\n",
       "<!-- fullyconnected3&#45;&gt;data -->\n",
       "<g id=\"edge1\" class=\"edge\">\n",
       "<title>fullyconnected3&#45;&gt;data</title>\n",
       "<path fill=\"none\" stroke=\"#000000\" d=\"M47,-83.6321C47,-75.1148 47,-66.2539 47,-58.2088\"/>\n",
       "<polygon fill=\"#000000\" stroke=\"#000000\" points=\"47,-93.7731 42.5001,-83.773 47,-88.7731 47.0001,-83.7731 47.0001,-83.7731 47.0001,-83.7731 47,-88.7731 51.5001,-83.7731 47,-93.7731 47,-93.7731\"/>\n",
       "</g>\n",
       "<!-- activation2 -->\n",
       "<g id=\"node3\" class=\"node\">\n",
       "<title>activation2</title>\n",
       "<polygon fill=\"#ffffb3\" stroke=\"#000000\" points=\"94,-246 0,-246 0,-188 94,-188 94,-246\"/>\n",
       "<text text-anchor=\"middle\" x=\"47\" y=\"-220.8\" font-family=\"Times,serif\" font-size=\"14.00\" fill=\"#000000\">Activation</text>\n",
       "<text text-anchor=\"middle\" x=\"47\" y=\"-205.8\" font-family=\"Times,serif\" font-size=\"14.00\" fill=\"#000000\">relu</text>\n",
       "</g>\n",
       "<!-- activation2&#45;&gt;fullyconnected3 -->\n",
       "<g id=\"edge2\" class=\"edge\">\n",
       "<title>activation2&#45;&gt;fullyconnected3</title>\n",
       "<path fill=\"none\" stroke=\"#000000\" d=\"M47,-177.6321C47,-169.1148 47,-160.2539 47,-152.2088\"/>\n",
       "<polygon fill=\"#000000\" stroke=\"#000000\" points=\"47,-187.7731 42.5001,-177.773 47,-182.7731 47.0001,-177.7731 47.0001,-177.7731 47.0001,-177.7731 47,-182.7731 51.5001,-177.7731 47,-187.7731 47,-187.7731\"/>\n",
       "</g>\n",
       "<!-- fullyconnected4 -->\n",
       "<g id=\"node4\" class=\"node\">\n",
       "<title>fullyconnected4</title>\n",
       "<polygon fill=\"#fb8072\" stroke=\"#000000\" points=\"94,-340 0,-340 0,-282 94,-282 94,-340\"/>\n",
       "<text text-anchor=\"middle\" x=\"47\" y=\"-314.8\" font-family=\"Times,serif\" font-size=\"14.00\" fill=\"#000000\">FullyConnected</text>\n",
       "<text text-anchor=\"middle\" x=\"47\" y=\"-299.8\" font-family=\"Times,serif\" font-size=\"14.00\" fill=\"#000000\">250</text>\n",
       "</g>\n",
       "<!-- fullyconnected4&#45;&gt;activation2 -->\n",
       "<g id=\"edge3\" class=\"edge\">\n",
       "<title>fullyconnected4&#45;&gt;activation2</title>\n",
       "<path fill=\"none\" stroke=\"#000000\" d=\"M47,-271.6321C47,-263.1148 47,-254.2539 47,-246.2088\"/>\n",
       "<polygon fill=\"#000000\" stroke=\"#000000\" points=\"47,-281.7731 42.5001,-271.773 47,-276.7731 47.0001,-271.7731 47.0001,-271.7731 47.0001,-271.7731 47,-276.7731 51.5001,-271.7731 47,-281.7731 47,-281.7731\"/>\n",
       "</g>\n",
       "<!-- activation3 -->\n",
       "<g id=\"node5\" class=\"node\">\n",
       "<title>activation3</title>\n",
       "<polygon fill=\"#ffffb3\" stroke=\"#000000\" points=\"94,-434 0,-434 0,-376 94,-376 94,-434\"/>\n",
       "<text text-anchor=\"middle\" x=\"47\" y=\"-408.8\" font-family=\"Times,serif\" font-size=\"14.00\" fill=\"#000000\">Activation</text>\n",
       "<text text-anchor=\"middle\" x=\"47\" y=\"-393.8\" font-family=\"Times,serif\" font-size=\"14.00\" fill=\"#000000\">relu</text>\n",
       "</g>\n",
       "<!-- activation3&#45;&gt;fullyconnected4 -->\n",
       "<g id=\"edge4\" class=\"edge\">\n",
       "<title>activation3&#45;&gt;fullyconnected4</title>\n",
       "<path fill=\"none\" stroke=\"#000000\" d=\"M47,-365.6321C47,-357.1148 47,-348.2539 47,-340.2088\"/>\n",
       "<polygon fill=\"#000000\" stroke=\"#000000\" points=\"47,-375.7731 42.5001,-365.773 47,-370.7731 47.0001,-365.7731 47.0001,-365.7731 47.0001,-365.7731 47,-370.7731 51.5001,-365.7731 47,-375.7731 47,-375.7731\"/>\n",
       "</g>\n",
       "<!-- fullyconnected5 -->\n",
       "<g id=\"node6\" class=\"node\">\n",
       "<title>fullyconnected5</title>\n",
       "<polygon fill=\"#fb8072\" stroke=\"#000000\" points=\"94,-528 0,-528 0,-470 94,-470 94,-528\"/>\n",
       "<text text-anchor=\"middle\" x=\"47\" y=\"-502.8\" font-family=\"Times,serif\" font-size=\"14.00\" fill=\"#000000\">FullyConnected</text>\n",
       "<text text-anchor=\"middle\" x=\"47\" y=\"-487.8\" font-family=\"Times,serif\" font-size=\"14.00\" fill=\"#000000\">2</text>\n",
       "</g>\n",
       "<!-- fullyconnected5&#45;&gt;activation3 -->\n",
       "<g id=\"edge5\" class=\"edge\">\n",
       "<title>fullyconnected5&#45;&gt;activation3</title>\n",
       "<path fill=\"none\" stroke=\"#000000\" d=\"M47,-459.6321C47,-451.1148 47,-442.2539 47,-434.2088\"/>\n",
       "<polygon fill=\"#000000\" stroke=\"#000000\" points=\"47,-469.7731 42.5001,-459.773 47,-464.7731 47.0001,-459.7731 47.0001,-459.7731 47.0001,-459.7731 47,-464.7731 51.5001,-459.7731 47,-469.7731 47,-469.7731\"/>\n",
       "</g>\n",
       "<!-- softmax_label -->\n",
       "<g id=\"node7\" class=\"node\">\n",
       "<title>softmax_label</title>\n",
       "<ellipse fill=\"#8dd3c7\" stroke=\"#000000\" cx=\"159\" cy=\"-499\" rx=\"47\" ry=\"29\"/>\n",
       "<text text-anchor=\"middle\" x=\"159\" y=\"-495.3\" font-family=\"Times,serif\" font-size=\"14.00\" fill=\"#000000\">softmax_label</text>\n",
       "</g>\n",
       "<!-- softmax -->\n",
       "<g id=\"node8\" class=\"node\">\n",
       "<title>softmax</title>\n",
       "<polygon fill=\"#fccde5\" stroke=\"#000000\" points=\"150,-622 56,-622 56,-564 150,-564 150,-622\"/>\n",
       "<text text-anchor=\"middle\" x=\"103\" y=\"-589.3\" font-family=\"Times,serif\" font-size=\"14.00\" fill=\"#000000\">softmax</text>\n",
       "</g>\n",
       "<!-- softmax&#45;&gt;fullyconnected5 -->\n",
       "<g id=\"edge6\" class=\"edge\">\n",
       "<title>softmax&#45;&gt;fullyconnected5</title>\n",
       "<path fill=\"none\" stroke=\"#000000\" d=\"M80.3812,-555.0328C75.0542,-546.091 69.4571,-536.6959 64.401,-528.2088\"/>\n",
       "<polygon fill=\"#000000\" stroke=\"#000000\" points=\"85.5882,-563.7731 76.6042,-557.4852 83.0292,-559.4776 80.4701,-555.1821 80.4701,-555.1821 80.4701,-555.1821 83.0292,-559.4776 84.3361,-552.8789 85.5882,-563.7731 85.5882,-563.7731\"/>\n",
       "</g>\n",
       "<!-- softmax&#45;&gt;softmax_label -->\n",
       "<g id=\"edge7\" class=\"edge\">\n",
       "<title>softmax&#45;&gt;softmax_label</title>\n",
       "<path fill=\"none\" stroke=\"#000000\" d=\"M125.5712,-555.1126C131.3182,-545.4659 137.3825,-535.2865 142.7449,-526.2854\"/>\n",
       "<polygon fill=\"#000000\" stroke=\"#000000\" points=\"120.4118,-563.7731 121.6639,-552.8789 122.9708,-559.4776 125.5299,-555.1821 125.5299,-555.1821 125.5299,-555.1821 122.9708,-559.4776 129.3958,-557.4852 120.4118,-563.7731 120.4118,-563.7731\"/>\n",
       "</g>\n",
       "</g>\n",
       "</svg>\n"
      ],
      "text/plain": [
       "<graphviz.dot.Digraph at 0x7f8c412d50b8>"
      ]
     },
     "execution_count": 39,
     "metadata": {},
     "output_type": "execute_result"
    }
   ],
   "source": [
    "mx.viz.plot_network(mlp) "
   ]
  },
  {
   "cell_type": "code",
   "execution_count": 41,
   "metadata": {},
   "outputs": [
    {
     "name": "stderr",
     "output_type": "stream",
     "text": [
      "INFO:root:Epoch[0] Batch [100]\tSpeed: 10599.42 samples/sec\taccuracy=0.757822\n",
      "INFO:root:Epoch[0] Batch [200]\tSpeed: 30700.60 samples/sec\taccuracy=0.785800\n",
      "INFO:root:Epoch[0] Batch [300]\tSpeed: 36664.52 samples/sec\taccuracy=0.773800\n",
      "INFO:root:Epoch[0] Batch [400]\tSpeed: 36740.90 samples/sec\taccuracy=0.774800\n",
      "INFO:root:Epoch[0] Train-accuracy=0.774737\n",
      "INFO:root:Epoch[0] Time cost=2.046\n",
      "INFO:root:Epoch[0] Validation-accuracy=0.778667\n",
      "INFO:root:Epoch[1] Batch [100]\tSpeed: 33331.56 samples/sec\taccuracy=0.779010\n",
      "INFO:root:Epoch[1] Batch [200]\tSpeed: 27773.32 samples/sec\taccuracy=0.785600\n",
      "INFO:root:Epoch[1] Batch [300]\tSpeed: 26336.40 samples/sec\taccuracy=0.774400\n",
      "INFO:root:Epoch[1] Batch [400]\tSpeed: 9154.32 samples/sec\taccuracy=0.775200\n",
      "INFO:root:Epoch[1] Train-accuracy=0.770526\n",
      "INFO:root:Epoch[1] Time cost=1.237\n",
      "INFO:root:Epoch[1] Validation-accuracy=0.778556\n",
      "INFO:root:Epoch[2] Batch [100]\tSpeed: 5602.29 samples/sec\taccuracy=0.779208\n",
      "INFO:root:Epoch[2] Batch [200]\tSpeed: 6623.77 samples/sec\taccuracy=0.786000\n",
      "INFO:root:Epoch[2] Batch [300]\tSpeed: 6764.77 samples/sec\taccuracy=0.774400\n",
      "INFO:root:Epoch[2] Batch [400]\tSpeed: 6562.29 samples/sec\taccuracy=0.774000\n",
      "INFO:root:Epoch[2] Train-accuracy=0.775789\n",
      "INFO:root:Epoch[2] Time cost=3.307\n",
      "INFO:root:Epoch[2] Validation-accuracy=0.778556\n",
      "INFO:root:Epoch[3] Batch [100]\tSpeed: 6637.16 samples/sec\taccuracy=0.779604\n",
      "INFO:root:Epoch[3] Batch [200]\tSpeed: 6566.22 samples/sec\taccuracy=0.786000\n",
      "INFO:root:Epoch[3] Batch [300]\tSpeed: 6560.77 samples/sec\taccuracy=0.774400\n",
      "INFO:root:Epoch[3] Batch [400]\tSpeed: 6436.42 samples/sec\taccuracy=0.776200\n",
      "INFO:root:Epoch[3] Train-accuracy=0.775789\n",
      "INFO:root:Epoch[3] Time cost=3.216\n",
      "INFO:root:Epoch[3] Validation-accuracy=0.778556\n",
      "INFO:root:Epoch[4] Batch [100]\tSpeed: 6685.26 samples/sec\taccuracy=0.779406\n",
      "INFO:root:Epoch[4] Batch [200]\tSpeed: 6652.67 samples/sec\taccuracy=0.785800\n",
      "INFO:root:Epoch[4] Batch [300]\tSpeed: 6648.63 samples/sec\taccuracy=0.774600\n",
      "INFO:root:Epoch[4] Batch [400]\tSpeed: 6629.07 samples/sec\taccuracy=0.776200\n",
      "INFO:root:Epoch[4] Train-accuracy=0.775789\n",
      "INFO:root:Epoch[4] Time cost=3.163\n",
      "INFO:root:Epoch[4] Validation-accuracy=0.778444\n",
      "INFO:root:Epoch[5] Batch [100]\tSpeed: 6584.02 samples/sec\taccuracy=0.779604\n",
      "INFO:root:Epoch[5] Batch [200]\tSpeed: 6603.88 samples/sec\taccuracy=0.786200\n",
      "INFO:root:Epoch[5] Batch [300]\tSpeed: 6603.99 samples/sec\taccuracy=0.774600\n",
      "INFO:root:Epoch[5] Batch [400]\tSpeed: 6586.77 samples/sec\taccuracy=0.776200\n",
      "INFO:root:Epoch[5] Train-accuracy=0.775789\n",
      "INFO:root:Epoch[5] Time cost=3.192\n",
      "INFO:root:Epoch[5] Validation-accuracy=0.778444\n",
      "INFO:root:Epoch[6] Batch [100]\tSpeed: 6578.12 samples/sec\taccuracy=0.779604\n",
      "INFO:root:Epoch[6] Batch [200]\tSpeed: 6572.36 samples/sec\taccuracy=0.786200\n",
      "INFO:root:Epoch[6] Batch [300]\tSpeed: 6571.51 samples/sec\taccuracy=0.774600\n",
      "INFO:root:Epoch[6] Batch [400]\tSpeed: 6599.45 samples/sec\taccuracy=0.776200\n",
      "INFO:root:Epoch[6] Train-accuracy=0.775789\n",
      "INFO:root:Epoch[6] Time cost=3.199\n",
      "INFO:root:Epoch[6] Validation-accuracy=0.778444\n",
      "INFO:root:Epoch[7] Batch [100]\tSpeed: 6539.71 samples/sec\taccuracy=0.779604\n",
      "INFO:root:Epoch[7] Batch [200]\tSpeed: 6584.45 samples/sec\taccuracy=0.786200\n",
      "INFO:root:Epoch[7] Batch [300]\tSpeed: 6582.83 samples/sec\taccuracy=0.774600\n",
      "INFO:root:Epoch[7] Batch [400]\tSpeed: 6565.02 samples/sec\taccuracy=0.776200\n",
      "INFO:root:Epoch[7] Train-accuracy=0.775789\n",
      "INFO:root:Epoch[7] Time cost=3.204\n",
      "INFO:root:Epoch[7] Validation-accuracy=0.778444\n",
      "INFO:root:Epoch[8] Batch [100]\tSpeed: 6612.20 samples/sec\taccuracy=0.779604\n",
      "INFO:root:Epoch[8] Batch [200]\tSpeed: 6570.82 samples/sec\taccuracy=0.786200\n",
      "INFO:root:Epoch[8] Batch [300]\tSpeed: 6577.09 samples/sec\taccuracy=0.774600\n",
      "INFO:root:Epoch[8] Batch [400]\tSpeed: 6572.31 samples/sec\taccuracy=0.776200\n",
      "INFO:root:Epoch[8] Train-accuracy=0.775789\n",
      "INFO:root:Epoch[8] Time cost=3.197\n",
      "INFO:root:Epoch[8] Validation-accuracy=0.778444\n",
      "INFO:root:Epoch[9] Batch [100]\tSpeed: 6533.80 samples/sec\taccuracy=0.779604\n",
      "INFO:root:Epoch[9] Batch [200]\tSpeed: 6571.46 samples/sec\taccuracy=0.786200\n",
      "INFO:root:Epoch[9] Batch [300]\tSpeed: 6567.77 samples/sec\taccuracy=0.774600\n",
      "INFO:root:Epoch[9] Batch [400]\tSpeed: 6584.11 samples/sec\taccuracy=0.776200\n",
      "INFO:root:Epoch[9] Train-accuracy=0.775789\n",
      "INFO:root:Epoch[9] Time cost=3.207\n",
      "INFO:root:Epoch[9] Validation-accuracy=0.778444\n",
      "INFO:root:Epoch[10] Batch [100]\tSpeed: 6517.58 samples/sec\taccuracy=0.779604\n",
      "INFO:root:Epoch[10] Batch [200]\tSpeed: 6578.36 samples/sec\taccuracy=0.786200\n",
      "INFO:root:Epoch[10] Batch [300]\tSpeed: 6574.83 samples/sec\taccuracy=0.774600\n",
      "INFO:root:Epoch[10] Batch [400]\tSpeed: 6576.17 samples/sec\taccuracy=0.776200\n",
      "INFO:root:Epoch[10] Train-accuracy=0.775789\n",
      "INFO:root:Epoch[10] Time cost=3.207\n",
      "INFO:root:Epoch[10] Validation-accuracy=0.778444\n",
      "INFO:root:Epoch[11] Batch [100]\tSpeed: 6575.78 samples/sec\taccuracy=0.779604\n",
      "INFO:root:Epoch[11] Batch [200]\tSpeed: 6568.57 samples/sec\taccuracy=0.786200\n",
      "INFO:root:Epoch[11] Batch [300]\tSpeed: 6579.01 samples/sec\taccuracy=0.774600\n",
      "INFO:root:Epoch[11] Batch [400]\tSpeed: 6576.11 samples/sec\taccuracy=0.776200\n",
      "INFO:root:Epoch[11] Train-accuracy=0.775789\n",
      "INFO:root:Epoch[11] Time cost=3.201\n",
      "INFO:root:Epoch[11] Validation-accuracy=0.778444\n",
      "INFO:root:Epoch[12] Batch [100]\tSpeed: 6568.10 samples/sec\taccuracy=0.779604\n",
      "INFO:root:Epoch[12] Batch [200]\tSpeed: 6580.10 samples/sec\taccuracy=0.786200\n",
      "INFO:root:Epoch[12] Batch [300]\tSpeed: 6582.06 samples/sec\taccuracy=0.774600\n",
      "INFO:root:Epoch[12] Batch [400]\tSpeed: 6589.36 samples/sec\taccuracy=0.776200\n",
      "INFO:root:Epoch[12] Train-accuracy=0.775789\n",
      "INFO:root:Epoch[12] Time cost=3.199\n",
      "INFO:root:Epoch[12] Validation-accuracy=0.778444\n",
      "INFO:root:Epoch[13] Batch [100]\tSpeed: 6533.57 samples/sec\taccuracy=0.779604\n",
      "INFO:root:Epoch[13] Batch [200]\tSpeed: 6582.62 samples/sec\taccuracy=0.786200\n",
      "INFO:root:Epoch[13] Batch [300]\tSpeed: 6584.93 samples/sec\taccuracy=0.774600\n",
      "INFO:root:Epoch[13] Batch [400]\tSpeed: 6574.31 samples/sec\taccuracy=0.776200\n",
      "INFO:root:Epoch[13] Train-accuracy=0.775789\n",
      "INFO:root:Epoch[13] Time cost=3.203\n",
      "INFO:root:Epoch[13] Validation-accuracy=0.778444\n",
      "INFO:root:Epoch[14] Batch [100]\tSpeed: 6640.32 samples/sec\taccuracy=0.779604\n",
      "INFO:root:Epoch[14] Batch [200]\tSpeed: 6582.33 samples/sec\taccuracy=0.786200\n",
      "INFO:root:Epoch[14] Batch [300]\tSpeed: 6577.85 samples/sec\taccuracy=0.774600\n",
      "INFO:root:Epoch[14] Batch [400]\tSpeed: 6580.72 samples/sec\taccuracy=0.776200\n",
      "INFO:root:Epoch[14] Train-accuracy=0.775789\n",
      "INFO:root:Epoch[14] Time cost=3.190\n",
      "INFO:root:Epoch[14] Validation-accuracy=0.778444\n",
      "INFO:root:Epoch[15] Batch [100]\tSpeed: 6628.31 samples/sec\taccuracy=0.779604\n",
      "INFO:root:Epoch[15] Batch [200]\tSpeed: 6593.87 samples/sec\taccuracy=0.786200\n",
      "INFO:root:Epoch[15] Batch [300]\tSpeed: 6586.76 samples/sec\taccuracy=0.774600\n",
      "INFO:root:Epoch[15] Batch [400]\tSpeed: 6589.41 samples/sec\taccuracy=0.776200\n",
      "INFO:root:Epoch[15] Train-accuracy=0.775789\n",
      "INFO:root:Epoch[15] Time cost=3.188\n",
      "INFO:root:Epoch[15] Validation-accuracy=0.778444\n",
      "INFO:root:Epoch[16] Batch [100]\tSpeed: 6634.62 samples/sec\taccuracy=0.779604\n",
      "INFO:root:Epoch[16] Batch [200]\tSpeed: 6591.04 samples/sec\taccuracy=0.786200\n",
      "INFO:root:Epoch[16] Batch [300]\tSpeed: 6598.68 samples/sec\taccuracy=0.774600\n",
      "INFO:root:Epoch[16] Batch [400]\tSpeed: 6584.34 samples/sec\taccuracy=0.776200\n",
      "INFO:root:Epoch[16] Train-accuracy=0.775789\n",
      "INFO:root:Epoch[16] Time cost=3.187\n",
      "INFO:root:Epoch[16] Validation-accuracy=0.778444\n",
      "INFO:root:Epoch[17] Batch [100]\tSpeed: 6633.90 samples/sec\taccuracy=0.779604\n",
      "INFO:root:Epoch[17] Batch [200]\tSpeed: 6594.22 samples/sec\taccuracy=0.786200\n",
      "INFO:root:Epoch[17] Batch [300]\tSpeed: 6582.05 samples/sec\taccuracy=0.774600\n",
      "INFO:root:Epoch[17] Batch [400]\tSpeed: 6582.26 samples/sec\taccuracy=0.776200\n",
      "INFO:root:Epoch[17] Train-accuracy=0.775789\n",
      "INFO:root:Epoch[17] Time cost=3.189\n",
      "INFO:root:Epoch[17] Validation-accuracy=0.778444\n",
      "INFO:root:Epoch[18] Batch [100]\tSpeed: 6557.29 samples/sec\taccuracy=0.779604\n",
      "INFO:root:Epoch[18] Batch [200]\tSpeed: 6582.98 samples/sec\taccuracy=0.786200\n",
      "INFO:root:Epoch[18] Batch [300]\tSpeed: 6580.59 samples/sec\taccuracy=0.774600\n",
      "INFO:root:Epoch[18] Batch [400]\tSpeed: 6563.63 samples/sec\taccuracy=0.776200\n",
      "INFO:root:Epoch[18] Train-accuracy=0.775789\n",
      "INFO:root:Epoch[18] Time cost=3.203\n",
      "INFO:root:Epoch[18] Validation-accuracy=0.778444\n"
     ]
    },
    {
     "name": "stderr",
     "output_type": "stream",
     "text": [
      "INFO:root:Epoch[19] Batch [100]\tSpeed: 6514.58 samples/sec\taccuracy=0.779604\n",
      "INFO:root:Epoch[19] Batch [200]\tSpeed: 6583.92 samples/sec\taccuracy=0.786200\n",
      "INFO:root:Epoch[19] Batch [300]\tSpeed: 6579.68 samples/sec\taccuracy=0.774600\n",
      "INFO:root:Epoch[19] Batch [400]\tSpeed: 6578.75 samples/sec\taccuracy=0.776200\n",
      "INFO:root:Epoch[19] Train-accuracy=0.775789\n",
      "INFO:root:Epoch[19] Time cost=3.206\n",
      "INFO:root:Epoch[19] Validation-accuracy=0.778444\n"
     ]
    }
   ],
   "source": [
    "num_epoch = 20     \n",
    "device =   mx.cpu()     \n",
    "optimizer = \"adam\"     \n",
    "eval_metric = \"acc\" \n",
    "\n",
    "# Assign the network symbol(mlp) to the module class\n",
    "mlp_model = mx.mod.Module(symbol=mlp, context=device) \n",
    "\n",
    "\n",
    "# Start training by calling the fit function\n",
    "mlp_model.fit(trainIter,                      # training data               \n",
    "    eval_data=testIter,                       # validation data                            \n",
    "    optimizer= optimizer,                     # use adam optimizer to train\n",
    "    optimizer_params={'learning_rate':0.01},  # set learning rate for adam         \n",
    "    eval_metric= eval_metric,                 # report accuracy during training  \n",
    "    batch_end_callback = mx.callback.Speedometer(Batch_Size, 100), # output progress for each 100 data batches   \n",
    "    num_epoch=num_epoch) # train data passes indicatd by num_epoch\n",
    "  "
   ]
  },
  {
   "cell_type": "code",
   "execution_count": 42,
   "metadata": {},
   "outputs": [
    {
     "name": "stdout",
     "output_type": "stream",
     "text": [
      "[('accuracy', 0.77844444444444449)]\n"
     ]
    }
   ],
   "source": [
    "metric = mx.metric.Accuracy()\n",
    "print (mlp_model.score(testIter, metric))"
   ]
  },
  {
   "cell_type": "markdown",
   "metadata": {},
   "source": [
    "# Train using SageMaker training service - Local mode and SageMaker mode"
   ]
  },
  {
   "cell_type": "markdown",
   "metadata": {},
   "source": [
    "- Download SageMaker local mode setup file https://s3-us-west-2.amazonaws.com/ml-training-sfo/setup.sh\n",
    "\n",
    "- upload to the directory of this notebook\n"
   ]
  },
  {
   "cell_type": "code",
   "execution_count": 43,
   "metadata": {},
   "outputs": [
    {
     "name": "stdout",
     "output_type": "stream",
     "text": [
      "Collecting docker-compose\n",
      "\u001b[?25l  Downloading https://files.pythonhosted.org/packages/27/3c/6fcaa3b546ae8103c444149a1746f9a7043df7503e12bad318e8217312fb/docker_compose-1.21.2-py2.py3-none-any.whl (123kB)\n",
      "\u001b[K    100% |████████████████████████████████| 133kB 9.8MB/s ta 0:00:01\n",
      "\u001b[?25hCollecting docker<4.0,>=3.3.0 (from docker-compose)\n",
      "\u001b[?25l  Downloading https://files.pythonhosted.org/packages/31/01/41f727a549abd788eb91d0df4c801cb4c1f5227eee04a2621e13d7ed3e04/docker-3.3.0-py2.py3-none-any.whl (124kB)\n",
      "\u001b[K    100% |████████████████████████████████| 133kB 14.7MB/s ta 0:00:01\n",
      "\u001b[?25hRequirement already satisfied: PyYAML<4,>=3.10 in /home/ec2-user/anaconda3/envs/mxnet_p36/lib/python3.6/site-packages (from docker-compose) (3.12)\n",
      "Collecting docopt<0.7,>=0.6.1 (from docker-compose)\n",
      "  Downloading https://files.pythonhosted.org/packages/a2/55/8f8cab2afd404cf578136ef2cc5dfb50baa1761b68c9da1fb1e4eed343c9/docopt-0.6.2.tar.gz\n",
      "Collecting cached-property<2,>=1.2.0 (from docker-compose)\n",
      "  Downloading https://files.pythonhosted.org/packages/88/09/4b7a484f96cbceda746e03f0167021c909c3ceae1c6f2e844d79476cb70e/cached_property-1.4.3-py2.py3-none-any.whl\n",
      "Requirement already satisfied: six<2,>=1.3.0 in /home/ec2-user/anaconda3/envs/mxnet_p36/lib/python3.6/site-packages (from docker-compose) (1.11.0)\n",
      "Requirement already satisfied: requests!=2.11.0,!=2.12.2,!=2.18.0,<2.19,>=2.6.1 in /home/ec2-user/anaconda3/envs/mxnet_p36/lib/python3.6/site-packages (from docker-compose) (2.18.4)\n",
      "Requirement already satisfied: jsonschema<3,>=2.5.1 in /home/ec2-user/anaconda3/envs/mxnet_p36/lib/python3.6/site-packages (from docker-compose) (2.6.0)\n",
      "Collecting texttable<0.10,>=0.9.0 (from docker-compose)\n",
      "  Downloading https://files.pythonhosted.org/packages/02/e1/2565e6b842de7945af0555167d33acfc8a615584ef7abd30d1eae00a4d80/texttable-0.9.1.tar.gz\n",
      "Collecting dockerpty<0.5,>=0.4.1 (from docker-compose)\n",
      "  Downloading https://files.pythonhosted.org/packages/8d/ee/e9ecce4c32204a6738e0a5d5883d3413794d7498fe8b06f44becc028d3ba/dockerpty-0.4.1.tar.gz\n",
      "Collecting websocket-client<1.0,>=0.32.0 (from docker-compose)\n",
      "\u001b[?25l  Downloading https://files.pythonhosted.org/packages/8a/a1/72ef9aa26cfe1a75cee09fc1957e4723add9de098c15719416a1ee89386b/websocket_client-0.48.0-py2.py3-none-any.whl (198kB)\n",
      "\u001b[K    100% |████████████████████████████████| 204kB 22.9MB/s ta 0:00:01\n",
      "\u001b[?25hCollecting docker-pycreds>=0.2.3 (from docker<4.0,>=3.3.0->docker-compose)\n",
      "  Downloading https://files.pythonhosted.org/packages/ea/bf/7e70aeebc40407fbdb96fa9f79fc8e4722ea889a99378303e3bcc73f4ab5/docker_pycreds-0.3.0-py2.py3-none-any.whl\n",
      "Requirement already satisfied: chardet<3.1.0,>=3.0.2 in /home/ec2-user/anaconda3/envs/mxnet_p36/lib/python3.6/site-packages (from requests!=2.11.0,!=2.12.2,!=2.18.0,<2.19,>=2.6.1->docker-compose) (3.0.4)\n",
      "Requirement already satisfied: idna<2.7,>=2.5 in /home/ec2-user/anaconda3/envs/mxnet_p36/lib/python3.6/site-packages (from requests!=2.11.0,!=2.12.2,!=2.18.0,<2.19,>=2.6.1->docker-compose) (2.6)\n",
      "Requirement already satisfied: urllib3<1.23,>=1.21.1 in /home/ec2-user/anaconda3/envs/mxnet_p36/lib/python3.6/site-packages (from requests!=2.11.0,!=2.12.2,!=2.18.0,<2.19,>=2.6.1->docker-compose) (1.22)\n",
      "Requirement already satisfied: certifi>=2017.4.17 in /home/ec2-user/anaconda3/envs/mxnet_p36/lib/python3.6/site-packages (from requests!=2.11.0,!=2.12.2,!=2.18.0,<2.19,>=2.6.1->docker-compose) (2018.4.16)\n",
      "Building wheels for collected packages: docopt, texttable, dockerpty\n",
      "  Running setup.py bdist_wheel for docopt ... \u001b[?25ldone\n",
      "\u001b[?25h  Stored in directory: /home/ec2-user/.cache/pip/wheels/9b/04/dd/7daf4150b6d9b12949298737de9431a324d4b797ffd63f526e\n",
      "  Running setup.py bdist_wheel for texttable ... \u001b[?25ldone\n",
      "\u001b[?25h  Stored in directory: /home/ec2-user/.cache/pip/wheels/99/1e/2b/8452d3a48dad98632787556a0f2f90d56703b39cdf7d142dd1\n",
      "  Running setup.py bdist_wheel for dockerpty ... \u001b[?25ldone\n",
      "\u001b[?25h  Stored in directory: /home/ec2-user/.cache/pip/wheels/e5/1e/86/bd0a97a0907c6c654af654d5875d1d4383dd1f575f77cee4aa\n",
      "Successfully built docopt texttable dockerpty\n",
      "\u001b[31mmxnet-model-server 0.1.5 requires mxnet>=0.11.0, which is not installed.\u001b[0m\n",
      "\u001b[31mdistributed 1.21.8 requires msgpack, which is not installed.\u001b[0m\n",
      "Installing collected packages: websocket-client, docker-pycreds, docker, docopt, cached-property, texttable, dockerpty, docker-compose\n",
      "Successfully installed cached-property-1.4.3 docker-3.3.0 docker-compose-1.21.2 docker-pycreds-0.3.0 dockerpty-0.4.1 docopt-0.6.2 texttable-0.9.1 websocket-client-0.48.0\n",
      "3d6eba9e7a29b9aaeb441acdeb0251f6d83ef8728478af54747d71102ce2bbb4\n",
      "iptables for Docker setup done\n"
     ]
    }
   ],
   "source": [
    "!/bin/bash ./setup.sh"
   ]
  },
  {
   "cell_type": "code",
   "execution_count": 61,
   "metadata": {},
   "outputs": [],
   "source": [
    "from sagemaker import get_execution_role\n",
    "import boto3\n",
    "import sagemaker\n",
    "\n",
    "bucket = 'sagemaker-demo-dyping-us1'\n",
    "\n",
    "sagemaker_session = sagemaker.Session()\n",
    "\n",
    "custom_code_upload_location = 's3://sagemaker-demo-dyping-us1/creditrisk/custom'\n",
    "\n",
    "#Bucket location where results of model training are saved.\n",
    "model_artifacts_location = 's3://sagemaker-demo-dyping-us1/artifacts'\n",
    "\n",
    "role = get_execution_role()"
   ]
  },
  {
   "cell_type": "code",
   "execution_count": 62,
   "metadata": {},
   "outputs": [
    {
     "name": "stderr",
     "output_type": "stream",
     "text": [
      "DEBUG:s3transfer.utils:Acquiring 0\n",
      "DEBUG:s3transfer.tasks:UploadSubmissionTask(transfer_id=0, {'transfer_future': <s3transfer.futures.TransferFuture object at 0x7f8c393465f8>}) about to wait for the following futures []\n",
      "DEBUG:s3transfer.tasks:UploadSubmissionTask(transfer_id=0, {'transfer_future': <s3transfer.futures.TransferFuture object at 0x7f8c393465f8>}) done waiting for dependent futures\n",
      "DEBUG:s3transfer.tasks:Executing task UploadSubmissionTask(transfer_id=0, {'transfer_future': <s3transfer.futures.TransferFuture object at 0x7f8c393465f8>}) with kwargs {'client': <botocore.client.S3 object at 0x7f8c33f84b70>, 'config': <boto3.s3.transfer.TransferConfig object at 0x7f8c2f4dd7b8>, 'osutil': <s3transfer.utils.OSUtils object at 0x7f8c2f4dd7f0>, 'request_executor': <s3transfer.futures.BoundedExecutor object at 0x7f8c2f4dd518>, 'transfer_future': <s3transfer.futures.TransferFuture object at 0x7f8c393465f8>}\n",
      "DEBUG:s3transfer.futures:Submitting task PutObjectTask(transfer_id=0, {'bucket': 'sagemaker-demo-dyping-us1', 'key': 'data/creditrisk/test/test.csv', 'extra_args': {}}) to executor <s3transfer.futures.BoundedExecutor object at 0x7f8c2f4dd518> for transfer request: 0.\n",
      "DEBUG:s3transfer.utils:Acquiring 0\n",
      "DEBUG:s3transfer.tasks:PutObjectTask(transfer_id=0, {'bucket': 'sagemaker-demo-dyping-us1', 'key': 'data/creditrisk/test/test.csv', 'extra_args': {}}) about to wait for the following futures []\n",
      "DEBUG:s3transfer.utils:Releasing acquire 0/None\n",
      "DEBUG:s3transfer.tasks:PutObjectTask(transfer_id=0, {'bucket': 'sagemaker-demo-dyping-us1', 'key': 'data/creditrisk/test/test.csv', 'extra_args': {}}) done waiting for dependent futures\n",
      "DEBUG:s3transfer.tasks:Executing task PutObjectTask(transfer_id=0, {'bucket': 'sagemaker-demo-dyping-us1', 'key': 'data/creditrisk/test/test.csv', 'extra_args': {}}) with kwargs {'client': <botocore.client.S3 object at 0x7f8c33f84b70>, 'fileobj': <s3transfer.utils.ReadFileChunk object at 0x7f8c39346940>, 'bucket': 'sagemaker-demo-dyping-us1', 'key': 'data/creditrisk/test/test.csv', 'extra_args': {}}\n",
      "DEBUG:s3transfer.utils:Releasing acquire 0/None\n",
      "DEBUG:s3transfer.utils:Acquiring 0\n",
      "DEBUG:s3transfer.tasks:UploadSubmissionTask(transfer_id=0, {'transfer_future': <s3transfer.futures.TransferFuture object at 0x7f8c3931c5f8>}) about to wait for the following futures []\n",
      "DEBUG:s3transfer.tasks:UploadSubmissionTask(transfer_id=0, {'transfer_future': <s3transfer.futures.TransferFuture object at 0x7f8c3931c5f8>}) done waiting for dependent futures\n",
      "DEBUG:s3transfer.tasks:Executing task UploadSubmissionTask(transfer_id=0, {'transfer_future': <s3transfer.futures.TransferFuture object at 0x7f8c3931c5f8>}) with kwargs {'client': <botocore.client.S3 object at 0x7f8c33f84b70>, 'config': <boto3.s3.transfer.TransferConfig object at 0x7f8c393463c8>, 'osutil': <s3transfer.utils.OSUtils object at 0x7f8c39346470>, 'request_executor': <s3transfer.futures.BoundedExecutor object at 0x7f8c2f4dd550>, 'transfer_future': <s3transfer.futures.TransferFuture object at 0x7f8c3931c5f8>}\n",
      "DEBUG:s3transfer.futures:Submitting task PutObjectTask(transfer_id=0, {'bucket': 'sagemaker-demo-dyping-us1', 'key': 'data/creditrisk/train/train.csv', 'extra_args': {}}) to executor <s3transfer.futures.BoundedExecutor object at 0x7f8c2f4dd550> for transfer request: 0.\n",
      "DEBUG:s3transfer.utils:Acquiring 0\n",
      "DEBUG:s3transfer.tasks:PutObjectTask(transfer_id=0, {'bucket': 'sagemaker-demo-dyping-us1', 'key': 'data/creditrisk/train/train.csv', 'extra_args': {}}) about to wait for the following futures []\n",
      "DEBUG:s3transfer.utils:Releasing acquire 0/None\n",
      "DEBUG:s3transfer.tasks:PutObjectTask(transfer_id=0, {'bucket': 'sagemaker-demo-dyping-us1', 'key': 'data/creditrisk/train/train.csv', 'extra_args': {}}) done waiting for dependent futures\n",
      "DEBUG:s3transfer.tasks:Executing task PutObjectTask(transfer_id=0, {'bucket': 'sagemaker-demo-dyping-us1', 'key': 'data/creditrisk/train/train.csv', 'extra_args': {}}) with kwargs {'client': <botocore.client.S3 object at 0x7f8c33f84b70>, 'fileobj': <s3transfer.utils.ReadFileChunk object at 0x7f8c39346668>, 'bucket': 'sagemaker-demo-dyping-us1', 'key': 'data/creditrisk/train/train.csv', 'extra_args': {}}\n",
      "DEBUG:s3transfer.utils:Releasing acquire 0/None\n"
     ]
    }
   ],
   "source": [
    "inputs = sagemaker_session.upload_data(path='data', bucket=bucket, key_prefix='data/creditrisk')"
   ]
  },
  {
   "cell_type": "code",
   "execution_count": 63,
   "metadata": {},
   "outputs": [
    {
     "name": "stdout",
     "output_type": "stream",
     "text": [
      "Instance type = local\n"
     ]
    }
   ],
   "source": [
    "import subprocess\n",
    "\n",
    "instance_type = 'local'\n",
    "\n",
    "if subprocess.call('nvidia-smi') == 0:\n",
    "    ## Set type to GPU if one is present\n",
    "    instance_type = 'local_gpu'\n",
    "    \n",
    "print(\"Instance type = \" + instance_type)\n",
    "\n",
    "role = get_execution_role()"
   ]
  },
  {
   "cell_type": "markdown",
   "metadata": {},
   "source": [
    "- download training script https://s3-us-west-2.amazonaws.com/ml-training-sfo/creditrisk.py\n",
    "- upload to the directory of this notebook"
   ]
  },
  {
   "cell_type": "code",
   "execution_count": 76,
   "metadata": {},
   "outputs": [
    {
     "name": "stdout",
     "output_type": "stream",
     "text": [
      "from __future__ import print_function\r\n",
      "\r\n",
      "\r\n",
      "import logging\r\n",
      "import gzip\r\n",
      "import mxnet as mx\r\n",
      "import numpy as np\r\n",
      "import os\r\n",
      "import struct\r\n",
      "\r\n",
      "os.system('pip install pandas')\r\n",
      "\r\n",
      "import pandas as pd\r\n",
      "\r\n",
      "\r\n",
      "def load_data(path):\r\n",
      "    input_file = pd.read_csv(path)\r\n",
      "    X = input_file.drop('default.payment.next.month',axis=1)\r\n",
      "    y = input_file['default.payment.next.month']\r\n",
      "    return y, X\r\n",
      "\r\n",
      "\r\n",
      "def find_file(root_path, file_name):\r\n",
      "    for root, dirs, files in os.walk(root_path):\r\n",
      "        if file_name in files:\r\n",
      "            return os.path.join(root, file_name)\r\n",
      "\r\n",
      "\r\n",
      "def build_graph():\r\n",
      "    \r\n",
      "    \r\n",
      "    input_x = mx.sym.Variable('data')\r\n",
      "    input_y = mx.sym.Variable('softmax_label')\r\n",
      "\r\n",
      "    fc1  = mx.sym.FullyConnected(data=input_x, num_hidden=250)\r\n",
      "    act1 = mx.sym.Activation(data=fc1, act_type=\"relu\") \r\n",
      "    fc2  = mx.sym.FullyConnected(data=act1, num_hidden=250)\r\n",
      "    act2 = mx.sym.Activation(data=fc1, act_type=\"relu\") \r\n",
      "\r\n",
      "    fc3 = mx.sym.FullyConnected(data=act2, num_hidden=2) \r\n",
      "\r\n",
      "    mlp = mx.sym.SoftmaxOutput(data=fc3, label=input_y, name='softmax')\r\n",
      "    return mlp\r\n",
      "\r\n",
      "\r\n",
      "def train(current_host, channel_input_dirs, hyperparameters, hosts, num_cpus, num_gpus):\r\n",
      "    \r\n",
      "    batch_size = 100\r\n",
      "    learning_rate = hyperparameters.get(\"learning_rate\", 0.1)\r\n",
      "    \r\n",
      "    training_dir = channel_input_dirs['training']\r\n",
      "    \r\n",
      "    (train_Y, train_X) = load_data(training_dir + '/train/train.csv')\r\n",
      "    (test_Y, test_X) = load_data(training_dir + '/test/test.csv')\r\n",
      "    \r\n",
      "     \r\n",
      "    train_iter = mx.io.NDArrayIter(train_X.values, train_Y.values, batch_size, shuffle=True)\r\n",
      "    val_iter = mx.io.NDArrayIter(test_X.values, test_Y.values, batch_size)\r\n",
      "    logging.getLogger().setLevel(logging.DEBUG)\r\n",
      "    \r\n",
      "    kvstore = 'local' if len(hosts) == 1 else 'dist_sync'\r\n",
      "    \r\n",
      "    mlp_model = mx.mod.Module(\r\n",
      "        symbol=build_graph(),\r\n",
      "        context=get_train_context(num_cpus, num_gpus))\r\n",
      "    \r\n",
      "    mlp_model.fit(train_iter,\r\n",
      "                  eval_data=val_iter,\r\n",
      "                  kvstore=kvstore,\r\n",
      "                  optimizer='adam',\r\n",
      "                  optimizer_params={'learning_rate': learning_rate},\r\n",
      "                  eval_metric='acc',\r\n",
      "                  batch_end_callback=mx.callback.Speedometer(batch_size, 100),\r\n",
      "                  num_epoch=25)\r\n",
      "    return mlp_model\r\n",
      "\r\n",
      "\r\n",
      "def get_train_context(num_cpus, num_gpus):\r\n",
      "    if num_gpus > 0:\r\n",
      "        return mx.gpu()\r\n",
      "    return mx.cpu()\r\n",
      "\r\n",
      "\r\n"
     ]
    }
   ],
   "source": [
    "!cat creditrisk.py"
   ]
  },
  {
   "cell_type": "code",
   "execution_count": 77,
   "metadata": {},
   "outputs": [],
   "source": [
    "from sagemaker.mxnet import MXNet\n",
    "\n",
    "cr_estimator = MXNet('creditrisk.py',\n",
    "                        role=role,\n",
    "                        output_path=model_artifacts_location,\n",
    "                        code_location=custom_code_upload_location,\n",
    "                        train_instance_count=1, \n",
    "                        #train_instance_type='ml.m4.xlarge',\n",
    "                        train_instance_type= instance_type,\n",
    "                        hyperparameters={'learning_rate': 0.1})\n"
   ]
  },
  {
   "cell_type": "code",
   "execution_count": 65,
   "metadata": {},
   "outputs": [
    {
     "name": "stderr",
     "output_type": "stream",
     "text": [
      "INFO:sagemaker:Creating training-job with name: sagemaker-mxnet-2018-06-17-15-43-49-499\n",
      "DEBUG:s3transfer.utils:Acquiring 0\n",
      "DEBUG:s3transfer.tasks:DownloadSubmissionTask(transfer_id=0, {'transfer_future': <s3transfer.futures.TransferFuture object at 0x7f8c2ac45748>}) about to wait for the following futures []\n",
      "DEBUG:s3transfer.tasks:DownloadSubmissionTask(transfer_id=0, {'transfer_future': <s3transfer.futures.TransferFuture object at 0x7f8c2ac45748>}) done waiting for dependent futures\n",
      "DEBUG:s3transfer.tasks:Executing task DownloadSubmissionTask(transfer_id=0, {'transfer_future': <s3transfer.futures.TransferFuture object at 0x7f8c2ac45748>}) with kwargs {'client': <botocore.client.S3 object at 0x7f8c33c10e80>, 'config': <boto3.s3.transfer.TransferConfig object at 0x7f8c2ac2d828>, 'osutil': <s3transfer.utils.OSUtils object at 0x7f8c2ac2dd30>, 'request_executor': <s3transfer.futures.BoundedExecutor object at 0x7f8c2ac2db38>, 'transfer_future': <s3transfer.futures.TransferFuture object at 0x7f8c2ac45748>, 'io_executor': <s3transfer.futures.BoundedExecutor object at 0x7f8c2ac45400>}\n",
      "DEBUG:s3transfer.futures:Submitting task ImmediatelyWriteIOGetObjectTask(transfer_id=0, {'bucket': 'sagemaker-demo-dyping-us1', 'key': 'data/creditrisk/test/test.csv', 'extra_args': {}}) to executor <s3transfer.futures.BoundedExecutor object at 0x7f8c2ac2db38> for transfer request: 0.\n",
      "DEBUG:s3transfer.utils:Acquiring 0\n",
      "DEBUG:s3transfer.tasks:ImmediatelyWriteIOGetObjectTask(transfer_id=0, {'bucket': 'sagemaker-demo-dyping-us1', 'key': 'data/creditrisk/test/test.csv', 'extra_args': {}}) about to wait for the following futures []\n",
      "DEBUG:s3transfer.utils:Releasing acquire 0/None\n",
      "DEBUG:s3transfer.tasks:ImmediatelyWriteIOGetObjectTask(transfer_id=0, {'bucket': 'sagemaker-demo-dyping-us1', 'key': 'data/creditrisk/test/test.csv', 'extra_args': {}}) done waiting for dependent futures\n",
      "DEBUG:s3transfer.tasks:Executing task ImmediatelyWriteIOGetObjectTask(transfer_id=0, {'bucket': 'sagemaker-demo-dyping-us1', 'key': 'data/creditrisk/test/test.csv', 'extra_args': {}}) with kwargs {'client': <botocore.client.S3 object at 0x7f8c33c10e80>, 'bucket': 'sagemaker-demo-dyping-us1', 'key': 'data/creditrisk/test/test.csv', 'fileobj': <s3transfer.utils.DeferredOpenFile object at 0x7f8c33c39cf8>, 'extra_args': {}, 'callbacks': [], 'max_attempts': 5, 'download_output_manager': <s3transfer.download.DownloadFilenameOutputManager object at 0x7f8c2ac45940>, 'io_chunksize': 262144, 'bandwidth_limiter': None}\n",
      "DEBUG:s3transfer.tasks:IOWriteTask(transfer_id=0, {'offset': 0}) about to wait for the following futures []\n",
      "DEBUG:s3transfer.tasks:IOWriteTask(transfer_id=0, {'offset': 0}) done waiting for dependent futures\n",
      "DEBUG:s3transfer.tasks:Executing task IOWriteTask(transfer_id=0, {'offset': 0}) with kwargs {'fileobj': <s3transfer.utils.DeferredOpenFile object at 0x7f8c33c39cf8>, 'offset': 0}\n",
      "DEBUG:s3transfer.tasks:IOWriteTask(transfer_id=0, {'offset': 262144}) about to wait for the following futures []\n",
      "DEBUG:s3transfer.tasks:IOWriteTask(transfer_id=0, {'offset': 262144}) done waiting for dependent futures\n",
      "DEBUG:s3transfer.tasks:Executing task IOWriteTask(transfer_id=0, {'offset': 262144}) with kwargs {'fileobj': <s3transfer.utils.DeferredOpenFile object at 0x7f8c33c39cf8>, 'offset': 262144}\n",
      "DEBUG:s3transfer.tasks:IOWriteTask(transfer_id=0, {'offset': 524288}) about to wait for the following futures []\n",
      "DEBUG:s3transfer.tasks:IOWriteTask(transfer_id=0, {'offset': 524288}) done waiting for dependent futures\n",
      "DEBUG:s3transfer.tasks:Executing task IOWriteTask(transfer_id=0, {'offset': 524288}) with kwargs {'fileobj': <s3transfer.utils.DeferredOpenFile object at 0x7f8c33c39cf8>, 'offset': 524288}\n",
      "DEBUG:s3transfer.tasks:IOWriteTask(transfer_id=0, {'offset': 786432}) about to wait for the following futures []\n",
      "DEBUG:s3transfer.tasks:IOWriteTask(transfer_id=0, {'offset': 786432}) done waiting for dependent futures\n",
      "DEBUG:s3transfer.tasks:Executing task IOWriteTask(transfer_id=0, {'offset': 786432}) with kwargs {'fileobj': <s3transfer.utils.DeferredOpenFile object at 0x7f8c33c39cf8>, 'offset': 786432}\n",
      "DEBUG:s3transfer.tasks:IORenameFileTask(transfer_id=0, {'final_filename': '/tmp/tmpfopds_5z/training/test/test.csv'}) about to wait for the following futures []\n",
      "DEBUG:s3transfer.tasks:IORenameFileTask(transfer_id=0, {'final_filename': '/tmp/tmpfopds_5z/training/test/test.csv'}) done waiting for dependent futures\n",
      "DEBUG:s3transfer.tasks:Executing task IORenameFileTask(transfer_id=0, {'final_filename': '/tmp/tmpfopds_5z/training/test/test.csv'}) with kwargs {'fileobj': <s3transfer.utils.DeferredOpenFile object at 0x7f8c33c39cf8>, 'final_filename': '/tmp/tmpfopds_5z/training/test/test.csv', 'osutil': <s3transfer.utils.OSUtils object at 0x7f8c2ac2dd30>}\n",
      "DEBUG:s3transfer.utils:Releasing acquire 0/None\n",
      "DEBUG:s3transfer.utils:Acquiring 0\n",
      "DEBUG:s3transfer.tasks:DownloadSubmissionTask(transfer_id=0, {'transfer_future': <s3transfer.futures.TransferFuture object at 0x7f8c2f51d400>}) about to wait for the following futures []\n",
      "DEBUG:s3transfer.tasks:DownloadSubmissionTask(transfer_id=0, {'transfer_future': <s3transfer.futures.TransferFuture object at 0x7f8c2f51d400>}) done waiting for dependent futures\n",
      "DEBUG:s3transfer.tasks:Executing task DownloadSubmissionTask(transfer_id=0, {'transfer_future': <s3transfer.futures.TransferFuture object at 0x7f8c2f51d400>}) with kwargs {'client': <botocore.client.S3 object at 0x7f8c33c10e80>, 'config': <boto3.s3.transfer.TransferConfig object at 0x7f8c2ac455f8>, 'osutil': <s3transfer.utils.OSUtils object at 0x7f8c2ac454a8>, 'request_executor': <s3transfer.futures.BoundedExecutor object at 0x7f8c33c39e10>, 'transfer_future': <s3transfer.futures.TransferFuture object at 0x7f8c2f51d400>, 'io_executor': <s3transfer.futures.BoundedExecutor object at 0x7f8c2ac2dc50>}\n",
      "DEBUG:s3transfer.futures:Submitting task ImmediatelyWriteIOGetObjectTask(transfer_id=0, {'bucket': 'sagemaker-demo-dyping-us1', 'key': 'data/creditrisk/train/train.csv', 'extra_args': {}}) to executor <s3transfer.futures.BoundedExecutor object at 0x7f8c33c39e10> for transfer request: 0.\n",
      "DEBUG:s3transfer.utils:Acquiring 0\n",
      "DEBUG:s3transfer.tasks:ImmediatelyWriteIOGetObjectTask(transfer_id=0, {'bucket': 'sagemaker-demo-dyping-us1', 'key': 'data/creditrisk/train/train.csv', 'extra_args': {}}) about to wait for the following futures []\n",
      "DEBUG:s3transfer.utils:Releasing acquire 0/None\n",
      "DEBUG:s3transfer.tasks:ImmediatelyWriteIOGetObjectTask(transfer_id=0, {'bucket': 'sagemaker-demo-dyping-us1', 'key': 'data/creditrisk/train/train.csv', 'extra_args': {}}) done waiting for dependent futures\n",
      "DEBUG:s3transfer.tasks:Executing task ImmediatelyWriteIOGetObjectTask(transfer_id=0, {'bucket': 'sagemaker-demo-dyping-us1', 'key': 'data/creditrisk/train/train.csv', 'extra_args': {}}) with kwargs {'client': <botocore.client.S3 object at 0x7f8c33c10e80>, 'bucket': 'sagemaker-demo-dyping-us1', 'key': 'data/creditrisk/train/train.csv', 'fileobj': <s3transfer.utils.DeferredOpenFile object at 0x7f8c33c7bf28>, 'extra_args': {}, 'callbacks': [], 'max_attempts': 5, 'download_output_manager': <s3transfer.download.DownloadFilenameOutputManager object at 0x7f8c33c7bf98>, 'io_chunksize': 262144, 'bandwidth_limiter': None}\n",
      "DEBUG:s3transfer.tasks:IOWriteTask(transfer_id=0, {'offset': 0}) about to wait for the following futures []\n",
      "DEBUG:s3transfer.tasks:IOWriteTask(transfer_id=0, {'offset': 0}) done waiting for dependent futures\n",
      "DEBUG:s3transfer.tasks:Executing task IOWriteTask(transfer_id=0, {'offset': 0}) with kwargs {'fileobj': <s3transfer.utils.DeferredOpenFile object at 0x7f8c33c7bf28>, 'offset': 0}\n",
      "DEBUG:s3transfer.tasks:IOWriteTask(transfer_id=0, {'offset': 262144}) about to wait for the following futures []\n",
      "DEBUG:s3transfer.tasks:IOWriteTask(transfer_id=0, {'offset': 262144}) done waiting for dependent futures\n",
      "DEBUG:s3transfer.tasks:Executing task IOWriteTask(transfer_id=0, {'offset': 262144}) with kwargs {'fileobj': <s3transfer.utils.DeferredOpenFile object at 0x7f8c33c7bf28>, 'offset': 262144}\n",
      "DEBUG:s3transfer.tasks:IOWriteTask(transfer_id=0, {'offset': 524288}) about to wait for the following futures []\n",
      "DEBUG:s3transfer.tasks:IOWriteTask(transfer_id=0, {'offset': 524288}) done waiting for dependent futures\n"
     ]
    },
    {
     "name": "stderr",
     "output_type": "stream",
     "text": [
      "DEBUG:s3transfer.tasks:Executing task IOWriteTask(transfer_id=0, {'offset': 524288}) with kwargs {'fileobj': <s3transfer.utils.DeferredOpenFile object at 0x7f8c33c7bf28>, 'offset': 524288}\n",
      "DEBUG:s3transfer.tasks:IOWriteTask(transfer_id=0, {'offset': 786432}) about to wait for the following futures []\n",
      "DEBUG:s3transfer.tasks:IOWriteTask(transfer_id=0, {'offset': 786432}) done waiting for dependent futures\n",
      "DEBUG:s3transfer.tasks:Executing task IOWriteTask(transfer_id=0, {'offset': 786432}) with kwargs {'fileobj': <s3transfer.utils.DeferredOpenFile object at 0x7f8c33c7bf28>, 'offset': 786432}\n",
      "DEBUG:s3transfer.tasks:IOWriteTask(transfer_id=0, {'offset': 1048576}) about to wait for the following futures []\n",
      "DEBUG:s3transfer.tasks:IOWriteTask(transfer_id=0, {'offset': 1048576}) done waiting for dependent futures\n",
      "DEBUG:s3transfer.tasks:Executing task IOWriteTask(transfer_id=0, {'offset': 1048576}) with kwargs {'fileobj': <s3transfer.utils.DeferredOpenFile object at 0x7f8c33c7bf28>, 'offset': 1048576}\n",
      "DEBUG:s3transfer.tasks:IOWriteTask(transfer_id=0, {'offset': 1310720}) about to wait for the following futures []\n",
      "DEBUG:s3transfer.tasks:IOWriteTask(transfer_id=0, {'offset': 1310720}) done waiting for dependent futures\n",
      "DEBUG:s3transfer.tasks:Executing task IOWriteTask(transfer_id=0, {'offset': 1310720}) with kwargs {'fileobj': <s3transfer.utils.DeferredOpenFile object at 0x7f8c33c7bf28>, 'offset': 1310720}\n",
      "DEBUG:s3transfer.tasks:IOWriteTask(transfer_id=0, {'offset': 1572864}) about to wait for the following futures []\n",
      "DEBUG:s3transfer.tasks:IOWriteTask(transfer_id=0, {'offset': 1572864}) done waiting for dependent futures\n",
      "DEBUG:s3transfer.tasks:Executing task IOWriteTask(transfer_id=0, {'offset': 1572864}) with kwargs {'fileobj': <s3transfer.utils.DeferredOpenFile object at 0x7f8c33c7bf28>, 'offset': 1572864}\n",
      "DEBUG:s3transfer.tasks:IOWriteTask(transfer_id=0, {'offset': 1835008}) about to wait for the following futures []\n",
      "DEBUG:s3transfer.tasks:IOWriteTask(transfer_id=0, {'offset': 1835008}) done waiting for dependent futures\n",
      "DEBUG:s3transfer.tasks:Executing task IOWriteTask(transfer_id=0, {'offset': 1835008}) with kwargs {'fileobj': <s3transfer.utils.DeferredOpenFile object at 0x7f8c33c7bf28>, 'offset': 1835008}\n",
      "DEBUG:s3transfer.tasks:IOWriteTask(transfer_id=0, {'offset': 2097152}) about to wait for the following futures []\n",
      "DEBUG:s3transfer.tasks:IOWriteTask(transfer_id=0, {'offset': 2097152}) done waiting for dependent futures\n",
      "DEBUG:s3transfer.tasks:Executing task IOWriteTask(transfer_id=0, {'offset': 2097152}) with kwargs {'fileobj': <s3transfer.utils.DeferredOpenFile object at 0x7f8c33c7bf28>, 'offset': 2097152}\n",
      "DEBUG:s3transfer.tasks:IOWriteTask(transfer_id=0, {'offset': 2359296}) about to wait for the following futures []\n",
      "DEBUG:s3transfer.tasks:IOWriteTask(transfer_id=0, {'offset': 2359296}) done waiting for dependent futures\n",
      "DEBUG:s3transfer.tasks:Executing task IOWriteTask(transfer_id=0, {'offset': 2359296}) with kwargs {'fileobj': <s3transfer.utils.DeferredOpenFile object at 0x7f8c33c7bf28>, 'offset': 2359296}\n",
      "DEBUG:s3transfer.tasks:IORenameFileTask(transfer_id=0, {'final_filename': '/tmp/tmpfopds_5z/training/train/train.csv'}) about to wait for the following futures []\n",
      "DEBUG:s3transfer.tasks:IORenameFileTask(transfer_id=0, {'final_filename': '/tmp/tmpfopds_5z/training/train/train.csv'}) done waiting for dependent futures\n",
      "DEBUG:s3transfer.tasks:Executing task IORenameFileTask(transfer_id=0, {'final_filename': '/tmp/tmpfopds_5z/training/train/train.csv'}) with kwargs {'fileobj': <s3transfer.utils.DeferredOpenFile object at 0x7f8c33c7bf28>, 'final_filename': '/tmp/tmpfopds_5z/training/train/train.csv', 'osutil': <s3transfer.utils.OSUtils object at 0x7f8c2ac454a8>}\n",
      "DEBUG:s3transfer.utils:Releasing acquire 0/None\n"
     ]
    },
    {
     "name": "stdout",
     "output_type": "stream",
     "text": [
      "Attaching to tmp7o4pa80q_algo-1-QU0UU_1\n",
      "Creating tmp7o4pa80q_algo-1-QU0UU_1 ... \n",
      "\u001b[36malgo-1-QU0UU_1  |\u001b[0m 2018-06-17 15:43:51,000 INFO - root - running container entrypoint\n",
      "\u001b[1B\u001b[36malgo-1-QU0UU_1  |\u001b[0m 2018-06-17 15:43:51,001 INFO - root - starting train task\n",
      "\u001b[36malgo-1-QU0UU_1  |\u001b[0m 2018-06-17 15:43:51,007 INFO - container_support.training - Training starting\n",
      "\u001b[36malgo-1-QU0UU_1  |\u001b[0m 2018-06-17 15:43:51,449 INFO - mxnet_container.train - MXNetTrainingEnvironment: {'enable_cloudwatch_metrics': False, 'available_gpus': 0, 'channels': {u'training': {u'ContentType': u'application/octet-stream'}}, '_ps_verbose': 0, 'resource_config': {u'hosts': [u'algo-1-QU0UU'], u'current_host': u'algo-1-QU0UU'}, 'user_script_name': u'creditrisk.py', 'input_config_dir': '/opt/ml/input/config', 'channel_dirs': {u'training': u'/opt/ml/input/data/training'}, 'code_dir': '/opt/ml/code', 'output_data_dir': '/opt/ml/output/data/', 'output_dir': '/opt/ml/output', 'model_dir': '/opt/ml/model', 'hyperparameters': {u'sagemaker_program': u'creditrisk.py', u'learning_rate': 0.1, u'sagemaker_submit_directory': u's3://sagemaker-demo-dyping-us1/creditrisk/custom/sagemaker-mxnet-2018-06-17-15-43-49-499/source/sourcedir.tar.gz', u'sagemaker_region': u'us-east-1', u'sagemaker_enable_cloudwatch_metrics': False, u'sagemaker_job_name': u'sagemaker-mxnet-2018-06-17-15-43-49-499', u'sagemaker_container_log_level': 20}, 'hosts': [u'algo-1-QU0UU'], 'job_name': None, '_ps_port': 8000, 'user_script_archive': u's3://sagemaker-demo-dyping-us1/creditrisk/custom/sagemaker-mxnet-2018-06-17-15-43-49-499/source/sourcedir.tar.gz', '_scheduler_host': u'algo-1-QU0UU', 'sagemaker_region': u'us-east-1', '_scheduler_ip': '172.18.0.2', 'input_dir': '/opt/ml/input', 'user_requirements_file': None, 'current_host': u'algo-1-QU0UU', 'container_log_level': 20, 'available_cpus': 16, 'base_dir': '/opt/ml'}\n",
      "\u001b[36malgo-1-QU0UU_1  |\u001b[0m Downloading s3://sagemaker-demo-dyping-us1/creditrisk/custom/sagemaker-mxnet-2018-06-17-15-43-49-499/source/sourcedir.tar.gz to /tmp/script.tar.gz\n",
      "\u001b[36malgo-1-QU0UU_1  |\u001b[0m 2018-06-17 15:43:51,464 INFO - botocore.vendored.requests.packages.urllib3.connectionpool - Starting new HTTP connection (1): 169.254.169.254\n",
      "\u001b[36malgo-1-QU0UU_1  |\u001b[0m 2018-06-17 15:43:51,469 INFO - botocore.vendored.requests.packages.urllib3.connectionpool - Starting new HTTP connection (1): 169.254.169.254\n",
      "\u001b[36malgo-1-QU0UU_1  |\u001b[0m 2018-06-17 15:43:51,539 INFO - botocore.vendored.requests.packages.urllib3.connectionpool - Starting new HTTPS connection (1): sagemaker-demo-dyping-us1.s3.amazonaws.com\n",
      "\u001b[36malgo-1-QU0UU_1  |\u001b[0m 2018-06-17 15:43:51,605 INFO - mxnet_container.train - Starting distributed training task\n",
      "\u001b[36malgo-1-QU0UU_1  |\u001b[0m Collecting pandas\n",
      "\u001b[36malgo-1-QU0UU_1  |\u001b[0m \u001b[?25l  Downloading https://files.pythonhosted.org/packages/9d/5c/052a3aef6b5e337eca210ca668b78707c4fca762dcc3a0b7f9f3420f1e97/pandas-0.23.1-cp27-cp27mu-manylinux1_x86_64.whl (11.8MB)\n",
      "\u001b[K    100% |################################| 11.8MB 3.1MB/s eta 0:00:01\n",
      "\u001b[36malgo-1-QU0UU_1  |\u001b[0m \u001b[?25hRequirement already satisfied: numpy>=1.9.0 in /usr/local/lib/python2.7/dist-packages (from pandas) (1.13.3)\n",
      "\u001b[36malgo-1-QU0UU_1  |\u001b[0m Requirement already satisfied: python-dateutil>=2.5.0 in /usr/local/lib/python2.7/dist-packages (from pandas) (2.7.3)\n",
      "\u001b[36malgo-1-QU0UU_1  |\u001b[0m Collecting pytz>=2011k (from pandas)\n",
      "\u001b[36malgo-1-QU0UU_1  |\u001b[0m \u001b[?25l  Downloading https://files.pythonhosted.org/packages/dc/83/15f7833b70d3e067ca91467ca245bae0f6fe56ddc7451aa0dc5606b120f2/pytz-2018.4-py2.py3-none-any.whl (510kB)\n",
      "\u001b[K    100% |################################| 512kB 33.8MB/s ta 0:00:01\n",
      "\u001b[36malgo-1-QU0UU_1  |\u001b[0m \u001b[?25hRequirement already satisfied: six>=1.5 in /usr/local/lib/python2.7/dist-packages (from python-dateutil>=2.5.0->pandas) (1.11.0)\n",
      "\u001b[36malgo-1-QU0UU_1  |\u001b[0m Installing collected packages: pytz, pandas\n",
      "\u001b[36malgo-1-QU0UU_1  |\u001b[0m Successfully installed pandas-0.23.1 pytz-2018.4\n",
      "\u001b[36malgo-1-QU0UU_1  |\u001b[0m 2018-06-17 15:43:55,544 INFO - root - Epoch[0] Batch [100]\tSpeed: 111361.09 samples/sec\taccuracy=0.729703\n",
      "\u001b[36malgo-1-QU0UU_1  |\u001b[0m 2018-06-17 15:43:55,723 INFO - root - Epoch[0] Batch [200]\tSpeed: 56069.54 samples/sec\taccuracy=0.775700\n",
      "\u001b[36malgo-1-QU0UU_1  |\u001b[0m 2018-06-17 15:43:55,736 INFO - root - Epoch[0] Train-accuracy=0.786667\n",
      "\u001b[36malgo-1-QU0UU_1  |\u001b[0m 2018-06-17 15:43:55,737 INFO - root - Epoch[0] Time cost=0.302\n",
      "\u001b[36malgo-1-QU0UU_1  |\u001b[0m 2018-06-17 15:43:55,799 INFO - root - Epoch[0] Validation-accuracy=0.778667\n",
      "\u001b[36malgo-1-QU0UU_1  |\u001b[0m 2018-06-17 15:43:55,946 INFO - root - Epoch[1] Batch [100]\tSpeed: 69179.72 samples/sec\taccuracy=0.780990\n",
      "\u001b[36malgo-1-QU0UU_1  |\u001b[0m 2018-06-17 15:43:56,096 INFO - root - Epoch[1] Batch [200]\tSpeed: 66669.27 samples/sec\taccuracy=0.775900\n",
      "\u001b[36malgo-1-QU0UU_1  |\u001b[0m 2018-06-17 15:43:56,110 INFO - root - Epoch[1] Train-accuracy=0.786667\n",
      "\u001b[36malgo-1-QU0UU_1  |\u001b[0m 2018-06-17 15:43:56,110 INFO - root - Epoch[1] Time cost=0.312\n",
      "\u001b[36malgo-1-QU0UU_1  |\u001b[0m 2018-06-17 15:43:56,172 INFO - root - Epoch[1] Validation-accuracy=0.778556\n",
      "\u001b[36malgo-1-QU0UU_1  |\u001b[0m 2018-06-17 15:43:56,321 INFO - root - Epoch[2] Batch [100]\tSpeed: 67998.50 samples/sec\taccuracy=0.781188\n",
      "\u001b[36malgo-1-QU0UU_1  |\u001b[0m 2018-06-17 15:43:56,470 INFO - root - Epoch[2] Batch [200]\tSpeed: 67292.98 samples/sec\taccuracy=0.775800\n",
      "\u001b[36malgo-1-QU0UU_1  |\u001b[0m 2018-06-17 15:43:56,486 INFO - root - Epoch[2] Train-accuracy=0.786667\n",
      "\u001b[36malgo-1-QU0UU_1  |\u001b[0m 2018-06-17 15:43:56,486 INFO - root - Epoch[2] Time cost=0.315\n",
      "\u001b[36malgo-1-QU0UU_1  |\u001b[0m 2018-06-17 15:43:56,553 INFO - root - Epoch[2] Validation-accuracy=0.778667\n",
      "\u001b[36malgo-1-QU0UU_1  |\u001b[0m 2018-06-17 15:43:56,701 INFO - root - Epoch[3] Batch [100]\tSpeed: 68825.43 samples/sec\taccuracy=0.781188\n",
      "\u001b[36malgo-1-QU0UU_1  |\u001b[0m 2018-06-17 15:43:56,854 INFO - root - Epoch[3] Batch [200]\tSpeed: 65157.17 samples/sec\taccuracy=0.775800\n",
      "\u001b[36malgo-1-QU0UU_1  |\u001b[0m 2018-06-17 15:43:56,871 INFO - root - Epoch[3] Train-accuracy=0.786667\n",
      "\u001b[36malgo-1-QU0UU_1  |\u001b[0m 2018-06-17 15:43:56,871 INFO - root - Epoch[3] Time cost=0.318\n",
      "\u001b[36malgo-1-QU0UU_1  |\u001b[0m 2018-06-17 15:43:56,934 INFO - root - Epoch[3] Validation-accuracy=0.778667\n",
      "\u001b[36malgo-1-QU0UU_1  |\u001b[0m 2018-06-17 15:43:57,095 INFO - root - Epoch[4] Batch [100]\tSpeed: 63166.85 samples/sec\taccuracy=0.781386\n",
      "\u001b[36malgo-1-QU0UU_1  |\u001b[0m 2018-06-17 15:43:57,251 INFO - root - Epoch[4] Batch [200]\tSpeed: 64395.99 samples/sec\taccuracy=0.775800\n",
      "\u001b[36malgo-1-QU0UU_1  |\u001b[0m 2018-06-17 15:43:57,260 INFO - root - Epoch[4] Train-accuracy=0.786667\n",
      "\u001b[36malgo-1-QU0UU_1  |\u001b[0m 2018-06-17 15:43:57,261 INFO - root - Epoch[4] Time cost=0.326\n",
      "\u001b[36malgo-1-QU0UU_1  |\u001b[0m 2018-06-17 15:43:57,320 INFO - root - Epoch[4] Validation-accuracy=0.778667\n",
      "\u001b[36malgo-1-QU0UU_1  |\u001b[0m 2018-06-17 15:43:57,476 INFO - root - Epoch[5] Batch [100]\tSpeed: 64986.16 samples/sec\taccuracy=0.781386\n",
      "\u001b[36malgo-1-QU0UU_1  |\u001b[0m 2018-06-17 15:43:57,597 INFO - root - Epoch[5] Batch [200]\tSpeed: 83160.09 samples/sec\taccuracy=0.775800\n",
      "\u001b[36malgo-1-QU0UU_1  |\u001b[0m 2018-06-17 15:43:57,607 INFO - root - Epoch[5] Train-accuracy=0.786667\n",
      "\u001b[36malgo-1-QU0UU_1  |\u001b[0m 2018-06-17 15:43:57,607 INFO - root - Epoch[5] Time cost=0.287\n",
      "\u001b[36malgo-1-QU0UU_1  |\u001b[0m 2018-06-17 15:43:57,670 INFO - root - Epoch[5] Validation-accuracy=0.778667\n",
      "\u001b[36malgo-1-QU0UU_1  |\u001b[0m 2018-06-17 15:43:57,831 INFO - root - Epoch[6] Batch [100]\tSpeed: 63417.94 samples/sec\taccuracy=0.781386\n",
      "\u001b[36malgo-1-QU0UU_1  |\u001b[0m 2018-06-17 15:43:57,984 INFO - root - Epoch[6] Batch [200]\tSpeed: 65648.73 samples/sec\taccuracy=0.775800\n",
      "\u001b[36malgo-1-QU0UU_1  |\u001b[0m 2018-06-17 15:43:57,997 INFO - root - Epoch[6] Train-accuracy=0.786667\n",
      "\u001b[36malgo-1-QU0UU_1  |\u001b[0m 2018-06-17 15:43:57,998 INFO - root - Epoch[6] Time cost=0.327\n",
      "\u001b[36malgo-1-QU0UU_1  |\u001b[0m 2018-06-17 15:43:58,044 INFO - root - Epoch[6] Validation-accuracy=0.778667\n",
      "\u001b[36malgo-1-QU0UU_1  |\u001b[0m 2018-06-17 15:43:58,170 INFO - root - Epoch[7] Batch [100]\tSpeed: 80472.59 samples/sec\taccuracy=0.781386\n",
      "\u001b[36malgo-1-QU0UU_1  |\u001b[0m 2018-06-17 15:43:58,293 INFO - root - Epoch[7] Batch [200]\tSpeed: 81370.27 samples/sec\taccuracy=0.775800\n",
      "\u001b[36malgo-1-QU0UU_1  |\u001b[0m 2018-06-17 15:43:58,308 INFO - root - Epoch[7] Train-accuracy=0.786667\n",
      "\u001b[36malgo-1-QU0UU_1  |\u001b[0m 2018-06-17 15:43:58,308 INFO - root - Epoch[7] Time cost=0.264\n",
      "\u001b[36malgo-1-QU0UU_1  |\u001b[0m 2018-06-17 15:43:58,368 INFO - root - Epoch[7] Validation-accuracy=0.778667\n"
     ]
    },
    {
     "name": "stdout",
     "output_type": "stream",
     "text": [
      "\u001b[36malgo-1-QU0UU_1  |\u001b[0m 2018-06-17 15:43:58,531 INFO - root - Epoch[8] Batch [100]\tSpeed: 62232.71 samples/sec\taccuracy=0.781386\n",
      "\u001b[36malgo-1-QU0UU_1  |\u001b[0m 2018-06-17 15:43:58,688 INFO - root - Epoch[8] Batch [200]\tSpeed: 63920.61 samples/sec\taccuracy=0.775800\n",
      "\u001b[36malgo-1-QU0UU_1  |\u001b[0m 2018-06-17 15:43:58,703 INFO - root - Epoch[8] Train-accuracy=0.786667\n",
      "\u001b[36malgo-1-QU0UU_1  |\u001b[0m 2018-06-17 15:43:58,703 INFO - root - Epoch[8] Time cost=0.335\n",
      "\u001b[36malgo-1-QU0UU_1  |\u001b[0m 2018-06-17 15:43:58,765 INFO - root - Epoch[8] Validation-accuracy=0.778667\n",
      "\u001b[36malgo-1-QU0UU_1  |\u001b[0m 2018-06-17 15:43:58,922 INFO - root - Epoch[9] Batch [100]\tSpeed: 64838.28 samples/sec\taccuracy=0.781386\n",
      "\u001b[36malgo-1-QU0UU_1  |\u001b[0m 2018-06-17 15:43:59,057 INFO - root - Epoch[9] Batch [200]\tSpeed: 74047.79 samples/sec\taccuracy=0.775800\n",
      "\u001b[36malgo-1-QU0UU_1  |\u001b[0m 2018-06-17 15:43:59,072 INFO - root - Epoch[9] Train-accuracy=0.786667\n",
      "\u001b[36malgo-1-QU0UU_1  |\u001b[0m 2018-06-17 15:43:59,072 INFO - root - Epoch[9] Time cost=0.307\n",
      "\u001b[36malgo-1-QU0UU_1  |\u001b[0m 2018-06-17 15:43:59,132 INFO - root - Epoch[9] Validation-accuracy=0.778667\n",
      "\u001b[36malgo-1-QU0UU_1  |\u001b[0m 2018-06-17 15:43:59,282 INFO - root - Epoch[10] Batch [100]\tSpeed: 68090.57 samples/sec\taccuracy=0.781386\n",
      "\u001b[36malgo-1-QU0UU_1  |\u001b[0m 2018-06-17 15:43:59,439 INFO - root - Epoch[10] Batch [200]\tSpeed: 63453.82 samples/sec\taccuracy=0.775800\n",
      "\u001b[36malgo-1-QU0UU_1  |\u001b[0m 2018-06-17 15:43:59,456 INFO - root - Epoch[10] Train-accuracy=0.786667\n",
      "\u001b[36malgo-1-QU0UU_1  |\u001b[0m 2018-06-17 15:43:59,457 INFO - root - Epoch[10] Time cost=0.324\n",
      "\u001b[36malgo-1-QU0UU_1  |\u001b[0m 2018-06-17 15:43:59,515 INFO - root - Epoch[10] Validation-accuracy=0.778667\n",
      "\u001b[36malgo-1-QU0UU_1  |\u001b[0m 2018-06-17 15:43:59,672 INFO - root - Epoch[11] Batch [100]\tSpeed: 64503.24 samples/sec\taccuracy=0.781386\n",
      "\u001b[36malgo-1-QU0UU_1  |\u001b[0m 2018-06-17 15:43:59,833 INFO - root - Epoch[11] Batch [200]\tSpeed: 62109.04 samples/sec\taccuracy=0.775800\n",
      "\u001b[36malgo-1-QU0UU_1  |\u001b[0m 2018-06-17 15:43:59,849 INFO - root - Epoch[11] Train-accuracy=0.786667\n",
      "\u001b[36malgo-1-QU0UU_1  |\u001b[0m 2018-06-17 15:43:59,849 INFO - root - Epoch[11] Time cost=0.334\n",
      "\u001b[36malgo-1-QU0UU_1  |\u001b[0m 2018-06-17 15:43:59,910 INFO - root - Epoch[11] Validation-accuracy=0.778667\n",
      "\u001b[36malgo-1-QU0UU_1  |\u001b[0m 2018-06-17 15:44:00,070 INFO - root - Epoch[12] Batch [100]\tSpeed: 63613.19 samples/sec\taccuracy=0.781386\n",
      "\u001b[36malgo-1-QU0UU_1  |\u001b[0m 2018-06-17 15:44:00,234 INFO - root - Epoch[12] Batch [200]\tSpeed: 60894.33 samples/sec\taccuracy=0.775800\n",
      "\u001b[36malgo-1-QU0UU_1  |\u001b[0m 2018-06-17 15:44:00,250 INFO - root - Epoch[12] Train-accuracy=0.786667\n",
      "\u001b[36malgo-1-QU0UU_1  |\u001b[0m 2018-06-17 15:44:00,250 INFO - root - Epoch[12] Time cost=0.340\n",
      "\u001b[36malgo-1-QU0UU_1  |\u001b[0m 2018-06-17 15:44:00,316 INFO - root - Epoch[12] Validation-accuracy=0.778667\n",
      "\u001b[36malgo-1-QU0UU_1  |\u001b[0m 2018-06-17 15:44:00,480 INFO - root - Epoch[13] Batch [100]\tSpeed: 62016.29 samples/sec\taccuracy=0.781386\n",
      "\u001b[36malgo-1-QU0UU_1  |\u001b[0m 2018-06-17 15:44:00,640 INFO - root - Epoch[13] Batch [200]\tSpeed: 62438.65 samples/sec\taccuracy=0.775800\n",
      "\u001b[36malgo-1-QU0UU_1  |\u001b[0m 2018-06-17 15:44:00,655 INFO - root - Epoch[13] Train-accuracy=0.786667\n",
      "\u001b[36malgo-1-QU0UU_1  |\u001b[0m 2018-06-17 15:44:00,656 INFO - root - Epoch[13] Time cost=0.339\n",
      "\u001b[36malgo-1-QU0UU_1  |\u001b[0m 2018-06-17 15:44:00,716 INFO - root - Epoch[13] Validation-accuracy=0.778667\n",
      "\u001b[36malgo-1-QU0UU_1  |\u001b[0m 2018-06-17 15:44:00,814 INFO - root - Epoch[14] Batch [100]\tSpeed: 104671.55 samples/sec\taccuracy=0.781386\n",
      "\u001b[36malgo-1-QU0UU_1  |\u001b[0m 2018-06-17 15:44:00,948 INFO - root - Epoch[14] Batch [200]\tSpeed: 75253.05 samples/sec\taccuracy=0.775800\n",
      "\u001b[36malgo-1-QU0UU_1  |\u001b[0m 2018-06-17 15:44:00,965 INFO - root - Epoch[14] Train-accuracy=0.786667\n",
      "\u001b[36malgo-1-QU0UU_1  |\u001b[0m 2018-06-17 15:44:00,966 INFO - root - Epoch[14] Time cost=0.250\n",
      "\u001b[36malgo-1-QU0UU_1  |\u001b[0m 2018-06-17 15:44:01,027 INFO - root - Epoch[14] Validation-accuracy=0.778667\n",
      "\u001b[36malgo-1-QU0UU_1  |\u001b[0m 2018-06-17 15:44:01,176 INFO - root - Epoch[15] Batch [100]\tSpeed: 68820.80 samples/sec\taccuracy=0.781386\n",
      "\u001b[36malgo-1-QU0UU_1  |\u001b[0m 2018-06-17 15:44:01,329 INFO - root - Epoch[15] Batch [200]\tSpeed: 65272.46 samples/sec\taccuracy=0.775800\n",
      "\u001b[36malgo-1-QU0UU_1  |\u001b[0m 2018-06-17 15:44:01,344 INFO - root - Epoch[15] Train-accuracy=0.786667\n",
      "\u001b[36malgo-1-QU0UU_1  |\u001b[0m 2018-06-17 15:44:01,344 INFO - root - Epoch[15] Time cost=0.317\n",
      "\u001b[36malgo-1-QU0UU_1  |\u001b[0m 2018-06-17 15:44:01,407 INFO - root - Epoch[15] Validation-accuracy=0.778667\n",
      "\u001b[36malgo-1-QU0UU_1  |\u001b[0m 2018-06-17 15:44:01,564 INFO - root - Epoch[16] Batch [100]\tSpeed: 64937.56 samples/sec\taccuracy=0.781386\n",
      "\u001b[36malgo-1-QU0UU_1  |\u001b[0m 2018-06-17 15:44:01,695 INFO - root - Epoch[16] Batch [200]\tSpeed: 76731.90 samples/sec\taccuracy=0.775800\n",
      "\u001b[36malgo-1-QU0UU_1  |\u001b[0m 2018-06-17 15:44:01,710 INFO - root - Epoch[16] Train-accuracy=0.786667\n",
      "\u001b[36malgo-1-QU0UU_1  |\u001b[0m 2018-06-17 15:44:01,710 INFO - root - Epoch[16] Time cost=0.303\n",
      "\u001b[36malgo-1-QU0UU_1  |\u001b[0m 2018-06-17 15:44:01,771 INFO - root - Epoch[16] Validation-accuracy=0.778667\n",
      "\u001b[36malgo-1-QU0UU_1  |\u001b[0m 2018-06-17 15:44:01,910 INFO - root - Epoch[17] Batch [100]\tSpeed: 72829.54 samples/sec\taccuracy=0.781386\n",
      "\u001b[36malgo-1-QU0UU_1  |\u001b[0m 2018-06-17 15:44:02,059 INFO - root - Epoch[17] Batch [200]\tSpeed: 67364.09 samples/sec\taccuracy=0.775800\n",
      "\u001b[36malgo-1-QU0UU_1  |\u001b[0m 2018-06-17 15:44:02,073 INFO - root - Epoch[17] Train-accuracy=0.786667\n",
      "\u001b[36malgo-1-QU0UU_1  |\u001b[0m 2018-06-17 15:44:02,073 INFO - root - Epoch[17] Time cost=0.302\n",
      "\u001b[36malgo-1-QU0UU_1  |\u001b[0m 2018-06-17 15:44:02,140 INFO - root - Epoch[17] Validation-accuracy=0.778667\n",
      "\u001b[36malgo-1-QU0UU_1  |\u001b[0m 2018-06-17 15:44:02,296 INFO - root - Epoch[18] Batch [100]\tSpeed: 65285.26 samples/sec\taccuracy=0.781386\n",
      "\u001b[36malgo-1-QU0UU_1  |\u001b[0m 2018-06-17 15:44:02,440 INFO - root - Epoch[18] Batch [200]\tSpeed: 69687.87 samples/sec\taccuracy=0.775800\n",
      "\u001b[36malgo-1-QU0UU_1  |\u001b[0m 2018-06-17 15:44:02,458 INFO - root - Epoch[18] Train-accuracy=0.786667\n",
      "\u001b[36malgo-1-QU0UU_1  |\u001b[0m 2018-06-17 15:44:02,458 INFO - root - Epoch[18] Time cost=0.318\n",
      "\u001b[36malgo-1-QU0UU_1  |\u001b[0m 2018-06-17 15:44:02,524 INFO - root - Epoch[18] Validation-accuracy=0.778667\n",
      "\u001b[36malgo-1-QU0UU_1  |\u001b[0m 2018-06-17 15:44:02,673 INFO - root - Epoch[19] Batch [100]\tSpeed: 68232.91 samples/sec\taccuracy=0.781386\n",
      "\u001b[36malgo-1-QU0UU_1  |\u001b[0m 2018-06-17 15:44:02,833 INFO - root - Epoch[19] Batch [200]\tSpeed: 62313.05 samples/sec\taccuracy=0.775800\n",
      "\u001b[36malgo-1-QU0UU_1  |\u001b[0m 2018-06-17 15:44:02,849 INFO - root - Epoch[19] Train-accuracy=0.786667\n",
      "\u001b[36malgo-1-QU0UU_1  |\u001b[0m 2018-06-17 15:44:02,849 INFO - root - Epoch[19] Time cost=0.325\n",
      "\u001b[36malgo-1-QU0UU_1  |\u001b[0m 2018-06-17 15:44:02,903 INFO - root - Epoch[19] Validation-accuracy=0.778667\n",
      "\u001b[36malgo-1-QU0UU_1  |\u001b[0m 2018-06-17 15:44:03,056 INFO - root - Epoch[20] Batch [100]\tSpeed: 65657.67 samples/sec\taccuracy=0.781386\n",
      "\u001b[36malgo-1-QU0UU_1  |\u001b[0m 2018-06-17 15:44:03,306 INFO - root - Epoch[20] Batch [200]\tSpeed: 40054.32 samples/sec\taccuracy=0.775800\n",
      "\u001b[36malgo-1-QU0UU_1  |\u001b[0m 2018-06-17 15:44:03,321 INFO - root - Epoch[20] Train-accuracy=0.786667\n",
      "\u001b[36malgo-1-QU0UU_1  |\u001b[0m 2018-06-17 15:44:03,321 INFO - root - Epoch[20] Time cost=0.418\n",
      "\u001b[36malgo-1-QU0UU_1  |\u001b[0m 2018-06-17 15:44:03,389 INFO - root - Epoch[20] Validation-accuracy=0.778667\n",
      "\u001b[36malgo-1-QU0UU_1  |\u001b[0m 2018-06-17 15:44:03,634 INFO - root - Epoch[21] Batch [100]\tSpeed: 41577.61 samples/sec\taccuracy=0.781386\n",
      "\u001b[36malgo-1-QU0UU_1  |\u001b[0m 2018-06-17 15:44:03,835 INFO - root - Epoch[21] Batch [200]\tSpeed: 49731.19 samples/sec\taccuracy=0.775800\n",
      "\u001b[36malgo-1-QU0UU_1  |\u001b[0m 2018-06-17 15:44:03,854 INFO - root - Epoch[21] Train-accuracy=0.786667\n",
      "\u001b[36malgo-1-QU0UU_1  |\u001b[0m 2018-06-17 15:44:03,854 INFO - root - Epoch[21] Time cost=0.465\n",
      "\u001b[36malgo-1-QU0UU_1  |\u001b[0m 2018-06-17 15:44:03,922 INFO - root - Epoch[21] Validation-accuracy=0.778667\n",
      "\u001b[36malgo-1-QU0UU_1  |\u001b[0m 2018-06-17 15:44:04,323 INFO - root - Epoch[22] Batch [100]\tSpeed: 25100.08 samples/sec\taccuracy=0.781386\n",
      "\u001b[36malgo-1-QU0UU_1  |\u001b[0m 2018-06-17 15:44:04,480 INFO - root - Epoch[22] Batch [200]\tSpeed: 63787.33 samples/sec\taccuracy=0.775800\n",
      "\u001b[36malgo-1-QU0UU_1  |\u001b[0m 2018-06-17 15:44:04,496 INFO - root - Epoch[22] Train-accuracy=0.786667\n",
      "\u001b[36malgo-1-QU0UU_1  |\u001b[0m 2018-06-17 15:44:04,496 INFO - root - Epoch[22] Time cost=0.574\n"
     ]
    },
    {
     "name": "stdout",
     "output_type": "stream",
     "text": [
      "\u001b[36malgo-1-QU0UU_1  |\u001b[0m 2018-06-17 15:44:04,547 INFO - root - Epoch[22] Validation-accuracy=0.778667\n",
      "\u001b[36malgo-1-QU0UU_1  |\u001b[0m 2018-06-17 15:44:04,710 INFO - root - Epoch[23] Batch [100]\tSpeed: 62145.75 samples/sec\taccuracy=0.781386\n",
      "\u001b[36malgo-1-QU0UU_1  |\u001b[0m 2018-06-17 15:44:04,877 INFO - root - Epoch[23] Batch [200]\tSpeed: 60023.33 samples/sec\taccuracy=0.775800\n",
      "\u001b[36malgo-1-QU0UU_1  |\u001b[0m 2018-06-17 15:44:04,893 INFO - root - Epoch[23] Train-accuracy=0.786667\n",
      "\u001b[36malgo-1-QU0UU_1  |\u001b[0m 2018-06-17 15:44:04,893 INFO - root - Epoch[23] Time cost=0.346\n",
      "\u001b[36malgo-1-QU0UU_1  |\u001b[0m 2018-06-17 15:44:04,965 INFO - root - Epoch[23] Validation-accuracy=0.778667\n",
      "\u001b[36malgo-1-QU0UU_1  |\u001b[0m 2018-06-17 15:44:05,142 INFO - root - Epoch[24] Batch [100]\tSpeed: 57289.22 samples/sec\taccuracy=0.781386\n",
      "\u001b[36malgo-1-QU0UU_1  |\u001b[0m 2018-06-17 15:44:05,342 INFO - root - Epoch[24] Batch [200]\tSpeed: 50158.20 samples/sec\taccuracy=0.775800\n",
      "\u001b[36malgo-1-QU0UU_1  |\u001b[0m 2018-06-17 15:44:05,364 INFO - root - Epoch[24] Train-accuracy=0.786667\n",
      "\u001b[36malgo-1-QU0UU_1  |\u001b[0m 2018-06-17 15:44:05,364 INFO - root - Epoch[24] Time cost=0.400\n",
      "\u001b[36malgo-1-QU0UU_1  |\u001b[0m 2018-06-17 15:44:05,451 INFO - root - Epoch[24] Validation-accuracy=0.778667\n",
      "\u001b[36mtmp7o4pa80q_algo-1-QU0UU_1 exited with code 0\n",
      "\u001b[0mAborting on container exit...\n",
      "===== Job Complete =====\n"
     ]
    }
   ],
   "source": [
    "cr_estimator.fit(inputs)"
   ]
  },
  {
   "cell_type": "code",
   "execution_count": 66,
   "metadata": {},
   "outputs": [],
   "source": [
    "from sagemaker.mxnet import MXNet\n",
    "\n",
    "cr_estimator = MXNet('creditrisk.py',\n",
    "                        role=role,\n",
    "                        output_path=model_artifacts_location,\n",
    "                        code_location=custom_code_upload_location,\n",
    "                        train_instance_count=1, \n",
    "                        train_instance_type='ml.m4.xlarge',\n",
    "                        hyperparameters={'learning_rate': 0.1})\n"
   ]
  },
  {
   "cell_type": "code",
   "execution_count": 67,
   "metadata": {},
   "outputs": [
    {
     "name": "stderr",
     "output_type": "stream",
     "text": [
      "INFO:sagemaker:Creating training-job with name: sagemaker-mxnet-2018-06-17-15-45-16-516\n"
     ]
    },
    {
     "name": "stdout",
     "output_type": "stream",
     "text": [
      "................\n"
     ]
    },
    {
     "name": "stderr",
     "output_type": "stream",
     "text": [
      "/home/ec2-user/anaconda3/envs/mxnet_p36/lib/python3.6/site-packages/sagemaker/session.py:758: DeprecationWarning: generator 'multi_stream_iter' raised StopIteration\n",
      "  for idx, event in sagemaker.logs.multi_stream_iter(client, log_group, stream_names, positions):\n"
     ]
    },
    {
     "name": "stdout",
     "output_type": "stream",
     "text": [
      "\u001b[31m2018-06-17 15:47:47,841 INFO - root - running container entrypoint\u001b[0m\n",
      "\u001b[31m2018-06-17 15:47:47,842 INFO - root - starting train task\u001b[0m\n",
      "\u001b[31m2018-06-17 15:47:47,847 INFO - container_support.training - Training starting\u001b[0m\n",
      "\u001b[31m2018-06-17 15:47:49,973 INFO - mxnet_container.train - MXNetTrainingEnvironment: {'enable_cloudwatch_metrics': False, 'available_gpus': 0, 'channels': {u'training': {u'TrainingInputMode': u'File', u'RecordWrapperType': u'None', u'S3DistributionType': u'FullyReplicated'}}, '_ps_verbose': 0, 'resource_config': {u'current_host': u'algo-1', u'network_interface_name': u'ethwe', u'hosts': [u'algo-1']}, 'user_script_name': u'creditrisk.py', 'input_config_dir': '/opt/ml/input/config', 'channel_dirs': {u'training': u'/opt/ml/input/data/training'}, 'code_dir': '/opt/ml/code', 'output_data_dir': '/opt/ml/output/data/', 'output_dir': '/opt/ml/output', 'model_dir': '/opt/ml/model', 'hyperparameters': {u'sagemaker_program': u'creditrisk.py', u'learning_rate': 0.1, u'sagemaker_submit_directory': u's3://sagemaker-demo-dyping-us1/creditrisk/custom/sagemaker-mxnet-2018-06-17-15-45-16-516/source/sourcedir.tar.gz', u'sagemaker_region': u'us-east-1', u'sagemaker_enable_cloudwatch_metrics': False, u'sagemaker_job_name': u'sagemaker-mxnet-2018-06-17-15-45-16-516', u'sagemaker_container_log_level': 20}, 'hosts': [u'algo-1'], 'job_name': 'sagemaker-mxnet-2018-06-17-15-45-16-516', '_ps_port': 8000, 'user_script_archive': u's3://sagemaker-demo-dyping-us1/creditrisk/custom/sagemaker-mxnet-2018-06-17-15-45-16-516/source/sourcedir.tar.gz', '_scheduler_host': u'algo-1', 'sagemaker_region': u'us-east-1', '_scheduler_ip': '10.32.0.4', 'input_dir': '/opt/ml/input', 'user_requirements_file': None, 'current_host': u'algo-1', 'container_log_level': 20, 'available_cpus': 4, 'base_dir': '/opt/ml'}\u001b[0m\n",
      "\u001b[31mDownloading s3://sagemaker-demo-dyping-us1/creditrisk/custom/sagemaker-mxnet-2018-06-17-15-45-16-516/source/sourcedir.tar.gz to /tmp/script.tar.gz\u001b[0m\n",
      "\u001b[31m2018-06-17 15:47:50,069 INFO - botocore.vendored.requests.packages.urllib3.connectionpool - Starting new HTTP connection (1): 169.254.170.2\u001b[0m\n",
      "\u001b[31m2018-06-17 15:47:50,180 INFO - botocore.vendored.requests.packages.urllib3.connectionpool - Starting new HTTPS connection (1): sagemaker-demo-dyping-us1.s3.amazonaws.com\u001b[0m\n",
      "\u001b[31m2018-06-17 15:47:50,249 INFO - mxnet_container.train - Starting distributed training task\u001b[0m\n",
      "\u001b[31mCollecting pandas\n",
      "  Downloading https://files.pythonhosted.org/packages/9d/5c/052a3aef6b5e337eca210ca668b78707c4fca762dcc3a0b7f9f3420f1e97/pandas-0.23.1-cp27-cp27mu-manylinux1_x86_64.whl (11.8MB)\u001b[0m\n",
      "\u001b[31mRequirement already satisfied: numpy>=1.9.0 in /usr/local/lib/python2.7/dist-packages (from pandas) (1.13.3)\u001b[0m\n",
      "\u001b[31mRequirement already satisfied: python-dateutil>=2.5.0 in /usr/local/lib/python2.7/dist-packages (from pandas) (2.7.3)\u001b[0m\n",
      "\u001b[31mCollecting pytz>=2011k (from pandas)\n",
      "  Downloading https://files.pythonhosted.org/packages/dc/83/15f7833b70d3e067ca91467ca245bae0f6fe56ddc7451aa0dc5606b120f2/pytz-2018.4-py2.py3-none-any.whl (510kB)\u001b[0m\n",
      "\u001b[31mRequirement already satisfied: six>=1.5 in /usr/local/lib/python2.7/dist-packages (from python-dateutil>=2.5.0->pandas) (1.11.0)\u001b[0m\n",
      "\u001b[31mInstalling collected packages: pytz, pandas\u001b[0m\n",
      "\u001b[31mSuccessfully installed pandas-0.23.1 pytz-2018.4\u001b[0m\n",
      "\u001b[31m2018-06-17 15:47:54,642 INFO - root - Epoch[0] Batch [100]#011Speed: 65177.22 samples/sec#011accuracy=0.723663\u001b[0m\n",
      "\u001b[31m2018-06-17 15:47:54,794 INFO - root - Epoch[0] Batch [200]#011Speed: 65858.81 samples/sec#011accuracy=0.779400\u001b[0m\n",
      "\u001b[31m2018-06-17 15:47:54,808 INFO - root - Epoch[0] Train-accuracy=0.774444\u001b[0m\n",
      "\u001b[31m2018-06-17 15:47:54,808 INFO - root - Epoch[0] Time cost=0.346\u001b[0m\n",
      "\u001b[31m2018-06-17 15:47:54,871 INFO - root - Epoch[0] Validation-accuracy=0.778667\u001b[0m\n",
      "\u001b[31m2018-06-17 15:47:55,034 INFO - root - Epoch[1] Batch [100]#011Speed: 61983.93 samples/sec#011accuracy=0.777525\u001b[0m\n",
      "\u001b[31m2018-06-17 15:47:55,261 INFO - root - Epoch[1] Batch [200]#011Speed: 44047.59 samples/sec#011accuracy=0.780900\u001b[0m\n",
      "\u001b[31m2018-06-17 15:47:55,274 INFO - root - Epoch[1] Train-accuracy=0.738889\u001b[0m\n",
      "\u001b[31m2018-06-17 15:47:55,274 INFO - root - Epoch[1] Time cost=0.404\u001b[0m\n",
      "\u001b[31m2018-06-17 15:47:55,337 INFO - root - Epoch[1] Validation-accuracy=0.774889\u001b[0m\n",
      "\u001b[31m2018-06-17 15:47:55,491 INFO - root - Epoch[2] Batch [100]#011Speed: 65562.12 samples/sec#011accuracy=0.777327\u001b[0m\n",
      "\u001b[31m2018-06-17 15:47:55,638 INFO - root - Epoch[2] Batch [200]#011Speed: 68087.47 samples/sec#011accuracy=0.780100\u001b[0m\n",
      "\u001b[31m2018-06-17 15:47:55,651 INFO - root - Epoch[2] Train-accuracy=0.772222\u001b[0m\n",
      "\u001b[31m2018-06-17 15:47:55,652 INFO - root - Epoch[2] Time cost=0.315\u001b[0m\n",
      "\u001b[31m2018-06-17 15:47:55,713 INFO - root - Epoch[2] Validation-accuracy=0.776778\u001b[0m\n",
      "\u001b[31m2018-06-17 15:47:55,867 INFO - root - Epoch[3] Batch [100]#011Speed: 66070.34 samples/sec#011accuracy=0.776733\u001b[0m\n",
      "\u001b[31m2018-06-17 15:47:56,034 INFO - root - Epoch[3] Batch [200]#011Speed: 59868.77 samples/sec#011accuracy=0.780900\u001b[0m\n",
      "\u001b[31m2018-06-17 15:47:56,049 INFO - root - Epoch[3] Train-accuracy=0.773333\u001b[0m\n",
      "\u001b[31m2018-06-17 15:47:56,050 INFO - root - Epoch[3] Time cost=0.336\u001b[0m\n",
      "\u001b[31m2018-06-17 15:47:56,110 INFO - root - Epoch[3] Validation-accuracy=0.778667\u001b[0m\n",
      "\u001b[31m2018-06-17 15:47:56,283 INFO - root - Epoch[4] Batch [100]#011Speed: 58198.45 samples/sec#011accuracy=0.777624\u001b[0m\n",
      "\u001b[31m2018-06-17 15:47:56,440 INFO - root - Epoch[4] Batch [200]#011Speed: 63923.14 samples/sec#011accuracy=0.780900\u001b[0m\n",
      "\u001b[31m2018-06-17 15:47:56,452 INFO - root - Epoch[4] Train-accuracy=0.773333\u001b[0m\n",
      "\u001b[31m2018-06-17 15:47:56,452 INFO - root - Epoch[4] Time cost=0.342\u001b[0m\n",
      "\u001b[31m2018-06-17 15:47:56,524 INFO - root - Epoch[4] Validation-accuracy=0.778667\u001b[0m\n",
      "\u001b[31m2018-06-17 15:47:56,664 INFO - root - Epoch[5] Batch [100]#011Speed: 72063.24 samples/sec#011accuracy=0.777624\u001b[0m\n",
      "\u001b[31m2018-06-17 15:47:56,840 INFO - root - Epoch[5] Batch [200]#011Speed: 56800.14 samples/sec#011accuracy=0.780900\u001b[0m\n",
      "\u001b[31m2018-06-17 15:47:56,855 INFO - root - Epoch[5] Train-accuracy=0.773333\u001b[0m\n",
      "\u001b[31m2018-06-17 15:47:56,855 INFO - root - Epoch[5] Time cost=0.331\u001b[0m\n",
      "\u001b[31m2018-06-17 15:47:56,915 INFO - root - Epoch[5] Validation-accuracy=0.778667\u001b[0m\n",
      "\u001b[31m2018-06-17 15:47:57,078 INFO - root - Epoch[6] Batch [100]#011Speed: 62268.83 samples/sec#011accuracy=0.777624\u001b[0m\n",
      "\u001b[31m2018-06-17 15:47:57,237 INFO - root - Epoch[6] Batch [200]#011Speed: 62900.56 samples/sec#011accuracy=0.780800\u001b[0m\n",
      "\u001b[31m2018-06-17 15:47:57,273 INFO - root - Epoch[6] Train-accuracy=0.773333\u001b[0m\n",
      "\u001b[31m2018-06-17 15:47:57,273 INFO - root - Epoch[6] Time cost=0.358\u001b[0m\n",
      "\u001b[31m2018-06-17 15:47:57,341 INFO - root - Epoch[6] Validation-accuracy=0.778667\u001b[0m\n",
      "\u001b[31m2018-06-17 15:47:57,466 INFO - root - Epoch[7] Batch [100]#011Speed: 80814.48 samples/sec#011accuracy=0.777624\u001b[0m\n",
      "\u001b[31m2018-06-17 15:47:57,592 INFO - root - Epoch[7] Batch [200]#011Speed: 79399.08 samples/sec#011accuracy=0.780900\u001b[0m\n",
      "\u001b[31m2018-06-17 15:47:57,608 INFO - root - Epoch[7] Train-accuracy=0.773333\u001b[0m\n",
      "\u001b[31m2018-06-17 15:47:57,608 INFO - root - Epoch[7] Time cost=0.268\u001b[0m\n",
      "\u001b[31m2018-06-17 15:47:57,672 INFO - root - Epoch[7] Validation-accuracy=0.778667\u001b[0m\n",
      "\u001b[31m2018-06-17 15:47:57,840 INFO - root - Epoch[8] Batch [100]#011Speed: 60090.40 samples/sec#011accuracy=0.777624\u001b[0m\n",
      "\u001b[31m2018-06-17 15:47:58,000 INFO - root - Epoch[8] Batch [200]#011Speed: 62531.18 samples/sec#011accuracy=0.781000\u001b[0m\n",
      "\u001b[31m2018-06-17 15:47:58,015 INFO - root - Epoch[8] Train-accuracy=0.773333\u001b[0m\n",
      "\u001b[31m2018-06-17 15:47:58,015 INFO - root - Epoch[8] Time cost=0.343\u001b[0m\n",
      "\u001b[31m2018-06-17 15:47:58,076 INFO - root - Epoch[8] Validation-accuracy=0.778667\u001b[0m\n",
      "\u001b[31m2018-06-17 15:47:58,251 INFO - root - Epoch[9] Batch [100]#011Speed: 58062.21 samples/sec#011accuracy=0.777624\u001b[0m\n",
      "\u001b[31m2018-06-17 15:47:58,401 INFO - root - Epoch[9] Batch [200]#011Speed: 66498.57 samples/sec#011accuracy=0.781000\u001b[0m\n",
      "\u001b[31m2018-06-17 15:47:58,412 INFO - root - Epoch[9] Train-accuracy=0.773333\u001b[0m\n",
      "\u001b[31m2018-06-17 15:47:58,413 INFO - root - Epoch[9] Time cost=0.336\u001b[0m\n",
      "\u001b[31m2018-06-17 15:47:58,470 INFO - root - Epoch[9] Validation-accuracy=0.778667\u001b[0m\n",
      "\u001b[31m2018-06-17 15:47:58,642 INFO - root - Epoch[10] Batch [100]#011Speed: 58661.02 samples/sec#011accuracy=0.777624\u001b[0m\n",
      "\u001b[31m2018-06-17 15:47:58,815 INFO - root - Epoch[10] Batch [200]#011Speed: 57849.28 samples/sec#011accuracy=0.781000\u001b[0m\n",
      "\u001b[31m2018-06-17 15:47:58,831 INFO - root - Epoch[10] Train-accuracy=0.773333\u001b[0m\n",
      "\u001b[31m2018-06-17 15:47:58,831 INFO - root - Epoch[10] Time cost=0.361\u001b[0m\n",
      "\u001b[31m2018-06-17 15:47:58,892 INFO - root - Epoch[10] Validation-accuracy=0.778667\u001b[0m\n",
      "\u001b[31m2018-06-17 15:47:59,071 INFO - root - Epoch[11] Batch [100]#011Speed: 56440.14 samples/sec#011accuracy=0.777624\u001b[0m\n",
      "\u001b[31m2018-06-17 15:47:59,241 INFO - root - Epoch[11] Batch [200]#011Speed: 58774.13 samples/sec#011accuracy=0.781000\u001b[0m\n",
      "\u001b[31m2018-06-17 15:47:59,256 INFO - root - Epoch[11] Train-accuracy=0.773333\u001b[0m\n",
      "\u001b[31m2018-06-17 15:47:59,257 INFO - root - Epoch[11] Time cost=0.365\u001b[0m\n",
      "\u001b[31m2018-06-17 15:47:59,317 INFO - root - Epoch[11] Validation-accuracy=0.778667\u001b[0m\n",
      "\u001b[31m2018-06-17 15:47:59,587 INFO - root - Epoch[12] Batch [100]#011Speed: 37304.36 samples/sec#011accuracy=0.777624\u001b[0m\n",
      "\u001b[31m2018-06-17 15:47:59,757 INFO - root - Epoch[12] Batch [200]#011Speed: 59079.28 samples/sec#011accuracy=0.781000\u001b[0m\n",
      "\u001b[31m2018-06-17 15:47:59,772 INFO - root - Epoch[12] Train-accuracy=0.773333\u001b[0m\n",
      "\u001b[31m2018-06-17 15:47:59,772 INFO - root - Epoch[12] Time cost=0.455\u001b[0m\n",
      "\u001b[31m2018-06-17 15:47:59,833 INFO - root - Epoch[12] Validation-accuracy=0.778667\u001b[0m\n",
      "\u001b[31m2018-06-17 15:47:59,995 INFO - root - Epoch[13] Batch [100]#011Speed: 62452.69 samples/sec#011accuracy=0.777624\u001b[0m\n",
      "\u001b[31m2018-06-17 15:48:00,174 INFO - root - Epoch[13] Batch [200]#011Speed: 56144.14 samples/sec#011accuracy=0.781000\u001b[0m\n",
      "\u001b[31m2018-06-17 15:48:00,189 INFO - root - Epoch[13] Train-accuracy=0.773333\u001b[0m\n",
      "\u001b[31m2018-06-17 15:48:00,189 INFO - root - Epoch[13] Time cost=0.356\u001b[0m\n",
      "\u001b[31m2018-06-17 15:48:00,254 INFO - root - Epoch[13] Validation-accuracy=0.778667\u001b[0m\n",
      "\u001b[31m2018-06-17 15:48:00,431 INFO - root - Epoch[14] Batch [100]#011Speed: 57361.77 samples/sec#011accuracy=0.777624\u001b[0m\n"
     ]
    },
    {
     "name": "stdout",
     "output_type": "stream",
     "text": [
      "\u001b[31m2018-06-17 15:48:00,620 INFO - root - Epoch[14] Batch [200]#011Speed: 52791.88 samples/sec#011accuracy=0.781000\u001b[0m\n",
      "\u001b[31m2018-06-17 15:48:00,636 INFO - root - Epoch[14] Train-accuracy=0.773333\u001b[0m\n",
      "\u001b[31m2018-06-17 15:48:00,636 INFO - root - Epoch[14] Time cost=0.381\u001b[0m\n",
      "\u001b[31m2018-06-17 15:48:00,701 INFO - root - Epoch[14] Validation-accuracy=0.778667\u001b[0m\n",
      "\u001b[31m2018-06-17 15:48:00,876 INFO - root - Epoch[15] Batch [100]#011Speed: 57767.05 samples/sec#011accuracy=0.777624\u001b[0m\n",
      "\u001b[31m2018-06-17 15:48:01,052 INFO - root - Epoch[15] Batch [200]#011Speed: 57021.68 samples/sec#011accuracy=0.781000\u001b[0m\n",
      "\u001b[31m2018-06-17 15:48:01,067 INFO - root - Epoch[15] Train-accuracy=0.773333\u001b[0m\n",
      "\u001b[31m2018-06-17 15:48:01,067 INFO - root - Epoch[15] Time cost=0.366\u001b[0m\n",
      "\u001b[31m2018-06-17 15:48:01,125 INFO - root - Epoch[15] Validation-accuracy=0.778667\u001b[0m\n",
      "\u001b[31m2018-06-17 15:48:01,292 INFO - root - Epoch[16] Batch [100]#011Speed: 60738.25 samples/sec#011accuracy=0.777624\u001b[0m\n",
      "\u001b[31m2018-06-17 15:48:01,492 INFO - root - Epoch[16] Batch [200]#011Speed: 50078.07 samples/sec#011accuracy=0.781000\u001b[0m\n",
      "\u001b[31m2018-06-17 15:48:01,529 INFO - root - Epoch[16] Train-accuracy=0.773333\u001b[0m\n",
      "\u001b[31m2018-06-17 15:48:01,529 INFO - root - Epoch[16] Time cost=0.403\u001b[0m\n",
      "\u001b[31m2018-06-17 15:48:01,626 INFO - root - Epoch[16] Validation-accuracy=0.778667\u001b[0m\n",
      "\u001b[31m2018-06-17 15:48:01,800 INFO - root - Epoch[17] Batch [100]#011Speed: 58035.30 samples/sec#011accuracy=0.777624\u001b[0m\n",
      "\u001b[31m2018-06-17 15:48:01,971 INFO - root - Epoch[17] Batch [200]#011Speed: 58563.39 samples/sec#011accuracy=0.781000\u001b[0m\n",
      "\u001b[31m2018-06-17 15:48:01,985 INFO - root - Epoch[17] Train-accuracy=0.773333\u001b[0m\n",
      "\u001b[31m2018-06-17 15:48:01,985 INFO - root - Epoch[17] Time cost=0.359\u001b[0m\n",
      "\u001b[31m2018-06-17 15:48:02,051 INFO - root - Epoch[17] Validation-accuracy=0.778667\u001b[0m\n",
      "\u001b[31m2018-06-17 15:48:02,222 INFO - root - Epoch[18] Batch [100]#011Speed: 59259.24 samples/sec#011accuracy=0.777624\u001b[0m\n",
      "\u001b[31m2018-06-17 15:48:02,397 INFO - root - Epoch[18] Batch [200]#011Speed: 56946.97 samples/sec#011accuracy=0.781000\u001b[0m\n",
      "\u001b[31m2018-06-17 15:48:02,411 INFO - root - Epoch[18] Train-accuracy=0.773333\u001b[0m\n",
      "\u001b[31m2018-06-17 15:48:02,411 INFO - root - Epoch[18] Time cost=0.360\u001b[0m\n",
      "\u001b[31m2018-06-17 15:48:02,476 INFO - root - Epoch[18] Validation-accuracy=0.778667\u001b[0m\n",
      "\u001b[31m2018-06-17 15:48:02,649 INFO - root - Epoch[19] Batch [100]#011Speed: 58478.55 samples/sec#011accuracy=0.777624\u001b[0m\n",
      "\u001b[31m2018-06-17 15:48:02,814 INFO - root - Epoch[19] Batch [200]#011Speed: 60842.74 samples/sec#011accuracy=0.781000\u001b[0m\n",
      "\u001b[31m2018-06-17 15:48:02,829 INFO - root - Epoch[19] Train-accuracy=0.773333\u001b[0m\n",
      "\u001b[31m2018-06-17 15:48:02,829 INFO - root - Epoch[19] Time cost=0.353\u001b[0m\n",
      "\u001b[31m2018-06-17 15:48:02,888 INFO - root - Epoch[19] Validation-accuracy=0.778667\u001b[0m\n",
      "\u001b[31m2018-06-17 15:48:03,062 INFO - root - Epoch[20] Batch [100]#011Speed: 58001.59 samples/sec#011accuracy=0.777624\u001b[0m\n",
      "\u001b[31m2018-06-17 15:48:03,230 INFO - root - Epoch[20] Batch [200]#011Speed: 59514.61 samples/sec#011accuracy=0.781000\u001b[0m\n",
      "\u001b[31m2018-06-17 15:48:03,246 INFO - root - Epoch[20] Train-accuracy=0.773333\u001b[0m\n",
      "\u001b[31m2018-06-17 15:48:03,246 INFO - root - Epoch[20] Time cost=0.358\u001b[0m\n",
      "\u001b[31m2018-06-17 15:48:03,304 INFO - root - Epoch[20] Validation-accuracy=0.778667\u001b[0m\n",
      "\u001b[31m2018-06-17 15:48:03,478 INFO - root - Epoch[21] Batch [100]#011Speed: 58287.25 samples/sec#011accuracy=0.777624\u001b[0m\n",
      "\u001b[31m2018-06-17 15:48:03,734 INFO - root - Epoch[21] Batch [200]#011Speed: 39024.08 samples/sec#011accuracy=0.781000\u001b[0m\n",
      "\u001b[31m2018-06-17 15:48:03,748 INFO - root - Epoch[21] Train-accuracy=0.773333\u001b[0m\n",
      "\u001b[31m2018-06-17 15:48:03,748 INFO - root - Epoch[21] Time cost=0.444\u001b[0m\n",
      "\u001b[31m2018-06-17 15:48:03,841 INFO - root - Epoch[21] Validation-accuracy=0.778667\u001b[0m\n",
      "\u001b[31m2018-06-17 15:48:04,022 INFO - root - Epoch[22] Batch [100]#011Speed: 56346.27 samples/sec#011accuracy=0.777624\u001b[0m\n",
      "\u001b[31m2018-06-17 15:48:04,195 INFO - root - Epoch[22] Batch [200]#011Speed: 57629.26 samples/sec#011accuracy=0.781000\u001b[0m\n",
      "\u001b[31m2018-06-17 15:48:04,211 INFO - root - Epoch[22] Train-accuracy=0.773333\u001b[0m\n",
      "\u001b[31m2018-06-17 15:48:04,211 INFO - root - Epoch[22] Time cost=0.370\u001b[0m\n",
      "\u001b[31m2018-06-17 15:48:04,272 INFO - root - Epoch[22] Validation-accuracy=0.778667\u001b[0m\n",
      "\u001b[31m2018-06-17 15:48:04,444 INFO - root - Epoch[23] Batch [100]#011Speed: 58681.37 samples/sec#011accuracy=0.777624\u001b[0m\n",
      "\u001b[31m2018-06-17 15:48:04,614 INFO - root - Epoch[23] Batch [200]#011Speed: 59201.70 samples/sec#011accuracy=0.781000\u001b[0m\n",
      "\u001b[31m2018-06-17 15:48:04,633 INFO - root - Epoch[23] Train-accuracy=0.773333\u001b[0m\n",
      "\u001b[31m2018-06-17 15:48:04,633 INFO - root - Epoch[23] Time cost=0.361\u001b[0m\n",
      "\u001b[31m2018-06-17 15:48:04,695 INFO - root - Epoch[23] Validation-accuracy=0.778667\u001b[0m\n",
      "\u001b[31m2018-06-17 15:48:04,867 INFO - root - Epoch[24] Batch [100]#011Speed: 58625.60 samples/sec#011accuracy=0.777624\u001b[0m\n",
      "\u001b[31m2018-06-17 15:48:05,025 INFO - root - Epoch[24] Batch [200]#011Speed: 63460.25 samples/sec#011accuracy=0.781000\u001b[0m\n",
      "\u001b[31m2018-06-17 15:48:05,051 INFO - root - Epoch[24] Train-accuracy=0.773333\u001b[0m\n",
      "\u001b[31m2018-06-17 15:48:05,051 INFO - root - Epoch[24] Time cost=0.357\u001b[0m\n",
      "\u001b[31m2018-06-17 15:48:05,112 INFO - root - Epoch[24] Validation-accuracy=0.778667\u001b[0m\n",
      "===== Job Complete =====\n",
      "Billable seconds: 83\n"
     ]
    }
   ],
   "source": [
    "cr_estimator.fit(inputs)"
   ]
  },
  {
   "cell_type": "markdown",
   "metadata": {},
   "source": [
    "# Evaluting the model performance"
   ]
  },
  {
   "cell_type": "code",
   "execution_count": 68,
   "metadata": {},
   "outputs": [
    {
     "data": {
      "text/plain": [
       "'artifacts/sagemaker-mxnet-2018-06-17-15-45-16-516/output/model.tar.gz'"
      ]
     },
     "execution_count": 68,
     "metadata": {},
     "output_type": "execute_result"
    }
   ],
   "source": [
    "import os\n",
    "prefix = \"artifacts\"\n",
    "model_path = os.path.join(prefix, cr_estimator._current_job_name, 'output/model.tar.gz')\n",
    "model_path"
   ]
  },
  {
   "cell_type": "code",
   "execution_count": 71,
   "metadata": {},
   "outputs": [
    {
     "name": "stderr",
     "output_type": "stream",
     "text": [
      "DEBUG:s3transfer.utils:Acquiring 0\n",
      "DEBUG:s3transfer.tasks:DownloadSubmissionTask(transfer_id=0, {'transfer_future': <s3transfer.futures.TransferFuture object at 0x7f8bfff9e710>}) about to wait for the following futures []\n",
      "DEBUG:s3transfer.tasks:DownloadSubmissionTask(transfer_id=0, {'transfer_future': <s3transfer.futures.TransferFuture object at 0x7f8bfff9e710>}) done waiting for dependent futures\n",
      "DEBUG:s3transfer.tasks:Executing task DownloadSubmissionTask(transfer_id=0, {'transfer_future': <s3transfer.futures.TransferFuture object at 0x7f8bfff9e710>}) with kwargs {'client': <botocore.client.S3 object at 0x7f8c007e6518>, 'config': <boto3.s3.transfer.TransferConfig object at 0x7f8c0080a390>, 'osutil': <s3transfer.utils.OSUtils object at 0x7f8bfff95e48>, 'request_executor': <s3transfer.futures.BoundedExecutor object at 0x7f8bfff95f98>, 'transfer_future': <s3transfer.futures.TransferFuture object at 0x7f8bfff9e710>, 'io_executor': <s3transfer.futures.BoundedExecutor object at 0x7f8bfff9e3c8>}\n",
      "DEBUG:s3transfer.futures:Submitting task ImmediatelyWriteIOGetObjectTask(transfer_id=0, {'bucket': 'sagemaker-demo-dyping-us1', 'key': 'artifacts/sagemaker-mxnet-2018-06-17-15-45-16-516/output/model.tar.gz', 'extra_args': {}}) to executor <s3transfer.futures.BoundedExecutor object at 0x7f8bfff95f98> for transfer request: 0.\n",
      "DEBUG:s3transfer.utils:Acquiring 0\n",
      "DEBUG:s3transfer.tasks:ImmediatelyWriteIOGetObjectTask(transfer_id=0, {'bucket': 'sagemaker-demo-dyping-us1', 'key': 'artifacts/sagemaker-mxnet-2018-06-17-15-45-16-516/output/model.tar.gz', 'extra_args': {}}) about to wait for the following futures []\n",
      "DEBUG:s3transfer.utils:Releasing acquire 0/None\n",
      "DEBUG:s3transfer.tasks:ImmediatelyWriteIOGetObjectTask(transfer_id=0, {'bucket': 'sagemaker-demo-dyping-us1', 'key': 'artifacts/sagemaker-mxnet-2018-06-17-15-45-16-516/output/model.tar.gz', 'extra_args': {}}) done waiting for dependent futures\n",
      "DEBUG:s3transfer.tasks:Executing task ImmediatelyWriteIOGetObjectTask(transfer_id=0, {'bucket': 'sagemaker-demo-dyping-us1', 'key': 'artifacts/sagemaker-mxnet-2018-06-17-15-45-16-516/output/model.tar.gz', 'extra_args': {}}) with kwargs {'client': <botocore.client.S3 object at 0x7f8c007e6518>, 'bucket': 'sagemaker-demo-dyping-us1', 'key': 'artifacts/sagemaker-mxnet-2018-06-17-15-45-16-516/output/model.tar.gz', 'fileobj': <s3transfer.utils.DeferredOpenFile object at 0x7f8bfffa99b0>, 'extra_args': {}, 'callbacks': [], 'max_attempts': 5, 'download_output_manager': <s3transfer.download.DownloadFilenameOutputManager object at 0x7f8bfffa9710>, 'io_chunksize': 262144, 'bandwidth_limiter': None}\n",
      "DEBUG:s3transfer.tasks:IOWriteTask(transfer_id=0, {'offset': 0}) about to wait for the following futures []\n",
      "DEBUG:s3transfer.tasks:IOWriteTask(transfer_id=0, {'offset': 0}) done waiting for dependent futures\n",
      "DEBUG:s3transfer.tasks:Executing task IOWriteTask(transfer_id=0, {'offset': 0}) with kwargs {'fileobj': <s3transfer.utils.DeferredOpenFile object at 0x7f8bfffa99b0>, 'offset': 0}\n",
      "DEBUG:s3transfer.tasks:IORenameFileTask(transfer_id=0, {'final_filename': 'downloaded_model.tar.gz'}) about to wait for the following futures []\n",
      "DEBUG:s3transfer.tasks:IORenameFileTask(transfer_id=0, {'final_filename': 'downloaded_model.tar.gz'}) done waiting for dependent futures\n",
      "DEBUG:s3transfer.tasks:Executing task IORenameFileTask(transfer_id=0, {'final_filename': 'downloaded_model.tar.gz'}) with kwargs {'fileobj': <s3transfer.utils.DeferredOpenFile object at 0x7f8bfffa99b0>, 'final_filename': 'downloaded_model.tar.gz', 'osutil': <s3transfer.utils.OSUtils object at 0x7f8bfff95e48>}\n",
      "DEBUG:s3transfer.utils:Releasing acquire 0/None\n"
     ]
    }
   ],
   "source": [
    "boto3.resource('s3').Bucket(bucket).download_file(model_path, 'downloaded_model.tar.gz')"
   ]
  },
  {
   "cell_type": "code",
   "execution_count": 72,
   "metadata": {},
   "outputs": [
    {
     "name": "stdout",
     "output_type": "stream",
     "text": [
      "model-0000.params\r\n",
      "model-symbol.json\r\n",
      "model-shapes.json\r\n"
     ]
    }
   ],
   "source": [
    "!tar -xzvf 'downloaded_model.tar.gz'"
   ]
  },
  {
   "cell_type": "code",
   "execution_count": 73,
   "metadata": {},
   "outputs": [],
   "source": [
    "mod = mx.module.Module.load(\"model\", 0)"
   ]
  },
  {
   "cell_type": "code",
   "execution_count": 75,
   "metadata": {},
   "outputs": [
    {
     "name": "stderr",
     "output_type": "stream",
     "text": [
      "/home/ec2-user/anaconda3/envs/mxnet_p36/lib/python3.6/site-packages/mxnet/module/base_module.py:66: UserWarning: Data provided by label_shapes don't match names specified by label_names ([DataDesc[softmax_label,(50,),<class 'numpy.float32'>,NCHW]] vs. [])\n",
      "  warnings.warn(msg)\n"
     ]
    },
    {
     "data": {
      "text/plain": [
       "[('accuracy', 0.77866666666666662)]"
      ]
     },
     "execution_count": 75,
     "metadata": {},
     "output_type": "execute_result"
    }
   ],
   "source": [
    "sym, arg_params, aux_params = mx.model.load_checkpoint('model', 0)\n",
    "\n",
    "ctx = mx.cpu()\n",
    "\n",
    "mod = mx.mod.Module(symbol=sym, context=ctx, label_names=None)\n",
    "mod.bind(for_training=False, data_shapes=testIter.provide_data, label_shapes=testIter.provide_label)\n",
    "mod.set_params(arg_params, aux_params, allow_missing=True)\n",
    "\n",
    "\n",
    "mod.score(testIter, metric)"
   ]
  },
  {
   "cell_type": "code",
   "execution_count": null,
   "metadata": {},
   "outputs": [],
   "source": []
  }
 ],
 "metadata": {
  "kernelspec": {
   "display_name": "conda_mxnet_p36",
   "language": "python",
   "name": "conda_mxnet_p36"
  },
  "language_info": {
   "codemirror_mode": {
    "name": "ipython",
    "version": 3
   },
   "file_extension": ".py",
   "mimetype": "text/x-python",
   "name": "python",
   "nbconvert_exporter": "python",
   "pygments_lexer": "ipython3",
   "version": "3.6.4"
  }
 },
 "nbformat": 4,
 "nbformat_minor": 2
}
