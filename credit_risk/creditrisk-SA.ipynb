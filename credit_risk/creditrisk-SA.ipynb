{
 "cells": [
  {
   "cell_type": "code",
   "execution_count": null,
   "metadata": {},
   "outputs": [],
   "source": [
    "import pandas as pd\n",
    "import matplotlib as plt\n",
    "import urllib.request"
   ]
  },
  {
   "cell_type": "code",
   "execution_count": null,
   "metadata": {},
   "outputs": [],
   "source": [
    "datafile_src = \"https://s3-us-west-2.amazonaws.com/ml-training-sfo/Credit_default_dataset.csv\"\n",
    "target_file = \"credit_default_dataset.csv\"\n",
    "\n",
    "urllib.request.urlretrieve(datafile_src, target_file)"
   ]
  },
  {
   "cell_type": "code",
   "execution_count": null,
   "metadata": {},
   "outputs": [],
   "source": [
    "credit = pd.read_csv(target_file)"
   ]
  },
  {
   "cell_type": "code",
   "execution_count": null,
   "metadata": {},
   "outputs": [],
   "source": [
    "credit.head()"
   ]
  },
  {
   "cell_type": "code",
   "execution_count": null,
   "metadata": {},
   "outputs": [],
   "source": [
    "credit = credit.drop('ID', axis=1)"
   ]
  },
  {
   "cell_type": "code",
   "execution_count": null,
   "metadata": {},
   "outputs": [],
   "source": [
    "credit.describe()"
   ]
  },
  {
   "cell_type": "code",
   "execution_count": null,
   "metadata": {},
   "outputs": [],
   "source": [
    "credit['SEX'].value_counts()"
   ]
  },
  {
   "cell_type": "code",
   "execution_count": null,
   "metadata": {},
   "outputs": [],
   "source": [
    "credit['MARRIAGE'].value_counts()"
   ]
  },
  {
   "cell_type": "code",
   "execution_count": null,
   "metadata": {},
   "outputs": [],
   "source": [
    "credit[\"MARRIAGE\"]=credit[\"MARRIAGE\"].map({0:3,1:1,2:2,3:3})\n",
    "credit['MARRIAGE'].value_counts()"
   ]
  },
  {
   "cell_type": "code",
   "execution_count": null,
   "metadata": {},
   "outputs": [],
   "source": [
    "credit['LIMIT_BAL'].hist(bins=100, color='orange')"
   ]
  },
  {
   "cell_type": "code",
   "execution_count": null,
   "metadata": {},
   "outputs": [],
   "source": [
    "\n",
    "\n",
    "credit.boxplot(column=['AGE'])\n",
    "\n"
   ]
  },
  {
   "cell_type": "code",
   "execution_count": null,
   "metadata": {},
   "outputs": [],
   "source": [
    "credit.apply(lambda x: sum(x.isnull()),axis=0) "
   ]
  },
  {
   "cell_type": "markdown",
   "metadata": {},
   "source": [
    "# Understanding feature importance"
   ]
  },
  {
   "cell_type": "code",
   "execution_count": null,
   "metadata": {},
   "outputs": [],
   "source": [
    "from sklearn.ensemble import GradientBoostingClassifier\n",
    "X = credit.drop('default.payment.next.month', axis = 1)\n",
    "Y = credit['default.payment.next.month']\n",
    "\n",
    "clf = GradientBoostingClassifier()\n",
    "clf.fit(X,Y)"
   ]
  },
  {
   "cell_type": "code",
   "execution_count": null,
   "metadata": {},
   "outputs": [],
   "source": [
    "importances = clf.feature_importances_"
   ]
  },
  {
   "cell_type": "code",
   "execution_count": null,
   "metadata": {},
   "outputs": [],
   "source": [
    "import numpy as np\n",
    "features_label = X.columns[0:]\n",
    "indices = np. argsort(importances)[::-1]\n",
    "for i in range(X.shape[1]):\n",
    "    print (\"%2d) %-*s %f\" % (i + 1, 30, features_label[i],importances[indices[i]]))"
   ]
  },
  {
   "cell_type": "code",
   "execution_count": null,
   "metadata": {},
   "outputs": [],
   "source": [
    "plt.pyplot.title('Feature Importances')\n",
    "plt.pyplot.bar(range(X.shape[1]),importances[indices], color=\"green\", align=\"center\")\n",
    "plt.pyplot.xticks(range(X.shape[1]),features_label, rotation=90)\n",
    "plt.pyplot.xlim([-1, X.shape[1]])\n",
    "plt.pyplot.show()"
   ]
  },
  {
   "cell_type": "markdown",
   "metadata": {},
   "source": [
    "# Feature engineering and data preparation"
   ]
  },
  {
   "cell_type": "code",
   "execution_count": null,
   "metadata": {},
   "outputs": [],
   "source": [
    "from sklearn.preprocessing import MinMaxScaler\n",
    "\n",
    "scaler = MinMaxScaler()\n",
    "scaler.fit_transform(credit)\n"
   ]
  },
  {
   "cell_type": "code",
   "execution_count": null,
   "metadata": {},
   "outputs": [],
   "source": [
    "from sklearn.model_selection import train_test_split\n",
    "\n",
    "train, test = train_test_split(credit, test_size = 0.3)\n",
    "\n",
    "X_train = train.drop('default.payment.next.month',axis=1)\n",
    "\n",
    "y_train = train['default.payment.next.month']\n",
    "\n",
    "X_test =  test.drop('default.payment.next.month',axis=1)\n",
    "\n",
    "y_test = test['default.payment.next.month']"
   ]
  },
  {
   "cell_type": "code",
   "execution_count": null,
   "metadata": {},
   "outputs": [],
   "source": [
    "import os\n",
    "os.mkdir('data/train')\n",
    "train.to_csv(\"data/train/train.csv\", index=False)\n",
    "os.mkdir('data/test')\n",
    "test.to_csv(\"data/test/test.csv\", index=False)"
   ]
  },
  {
   "cell_type": "markdown",
   "metadata": {},
   "source": [
    "# Using Logistic Regression Algorithm"
   ]
  },
  {
   "cell_type": "code",
   "execution_count": null,
   "metadata": {},
   "outputs": [],
   "source": [
    "#Train benchmark model(Log Regression)\n",
    "from sklearn.linear_model import LogisticRegression\n",
    "clf0 = LogisticRegression(random_state=10)\n",
    "clf0.fit(X_train, y_train)"
   ]
  },
  {
   "cell_type": "code",
   "execution_count": null,
   "metadata": {},
   "outputs": [],
   "source": [
    "from sklearn.metrics import accuracy_score\n",
    "y_pred = clf0.predict(X_test)\n",
    "accuracy_regr=accuracy_score(y_test, y_pred)\n",
    "print(\"accuracy:\", accuracy_regr)"
   ]
  },
  {
   "cell_type": "markdown",
   "metadata": {},
   "source": [
    "# Using GradientBoosting algorithm"
   ]
  },
  {
   "cell_type": "code",
   "execution_count": null,
   "metadata": {},
   "outputs": [],
   "source": [
    "#gradeint boost\n",
    "from sklearn.ensemble import GradientBoostingClassifier\n",
    "clf2=GradientBoostingClassifier(random_state=10)\n",
    "clf2.fit(X_train,y_train)"
   ]
  },
  {
   "cell_type": "code",
   "execution_count": null,
   "metadata": {},
   "outputs": [],
   "source": [
    "y_pred2 = clf2.predict(X_test)\n",
    "accuracy_gb=accuracy_score(y_test, y_pred2)\n",
    "print(\"accuracy:\", accuracy_gb)"
   ]
  },
  {
   "cell_type": "markdown",
   "metadata": {},
   "source": [
    "# Using MXNet MLP"
   ]
  },
  {
   "cell_type": "code",
   "execution_count": null,
   "metadata": {},
   "outputs": [],
   "source": [
    "import mxnet as mx\n",
    "import numpy as np\n",
    "\n",
    "# Enable logging so we will see output during the training\n",
    "import logging\n",
    "logger = logging.getLogger()\n",
    "logger.setLevel(logging.DEBUG)"
   ]
  },
  {
   "cell_type": "code",
   "execution_count": null,
   "metadata": {},
   "outputs": [],
   "source": [
    "Batch_Size = 50\n",
    "trainIter = mx.io.NDArrayIter(X_train.values, y_train.values, Batch_Size, shuffle=True)\n",
    "testIter = mx.io.NDArrayIter(X_test.values, y_test.values, Batch_Size, shuffle=True)"
   ]
  },
  {
   "cell_type": "code",
   "execution_count": null,
   "metadata": {},
   "outputs": [],
   "source": [
    "def build_graph():\n",
    "    \n",
    "    \n",
    "    input_x = mx.sym.Variable('data')\n",
    "    input_y = mx.sym.Variable('softmax_label')\n",
    "\n",
    "    fc1  = mx.sym.FullyConnected(data=input_x, num_hidden=250)\n",
    "    act1 = mx.sym.Activation(data=fc1, act_type=\"relu\") \n",
    "    fc2  = mx.sym.FullyConnected(data=act1, num_hidden=250)\n",
    "    act2 = mx.sym.Activation(data=fc2, act_type=\"relu\") \n",
    "\n",
    "    fc3 = mx.sym.FullyConnected(data=act2, num_hidden=2) \n",
    "\n",
    "    mlp = mx.sym.SoftmaxOutput(data=fc3, label=input_y, name='softmax')\n",
    "    return mlp\n",
    "\n",
    "\n",
    "mlp = build_graph()"
   ]
  },
  {
   "cell_type": "code",
   "execution_count": null,
   "metadata": {},
   "outputs": [],
   "source": [
    "mx.viz.plot_network(mlp) "
   ]
  },
  {
   "cell_type": "code",
   "execution_count": null,
   "metadata": {},
   "outputs": [],
   "source": [
    "num_epoch = 20     \n",
    "device =   mx.cpu()     \n",
    "optimizer = \"adam\"     \n",
    "eval_metric = \"acc\" \n",
    "\n",
    "# Assign the network symbol(mlp) to the module class\n",
    "mlp_model = mx.mod.Module(symbol=mlp, context=device) \n",
    "\n",
    "\n",
    "# Start training by calling the fit function\n",
    "mlp_model.fit(trainIter,                      # training data               \n",
    "    eval_data=testIter,                       # validation data                            \n",
    "    optimizer= optimizer,                     # use adam optimizer to train\n",
    "    optimizer_params={'learning_rate':0.01},  # set learning rate for adam         \n",
    "    eval_metric= eval_metric,                 # report accuracy during training  \n",
    "    batch_end_callback = mx.callback.Speedometer(Batch_Size, 100), # output progress for each 100 data batches   \n",
    "    num_epoch=num_epoch) # train data passes indicatd by num_epoch\n",
    "  "
   ]
  },
  {
   "cell_type": "code",
   "execution_count": null,
   "metadata": {},
   "outputs": [],
   "source": [
    "metric = mx.metric.Accuracy()\n",
    "print (mlp_model.score(testIter, metric))"
   ]
  },
  {
   "cell_type": "markdown",
   "metadata": {},
   "source": [
    "# Train using SageMaker training service - Local mode and SageMaker mode"
   ]
  },
  {
   "cell_type": "markdown",
   "metadata": {},
   "source": [
    "- Download SageMaker local mode setup file https://s3-us-west-2.amazonaws.com/ml-training-sfo/setup.sh\n",
    "\n",
    "- upload to the directory of this notebook\n"
   ]
  },
  {
   "cell_type": "code",
   "execution_count": null,
   "metadata": {},
   "outputs": [],
   "source": [
    "!/bin/bash ./setup.sh"
   ]
  },
  {
   "cell_type": "code",
   "execution_count": null,
   "metadata": {},
   "outputs": [],
   "source": [
    "from sagemaker import get_execution_role\n",
    "import boto3\n",
    "import sagemaker\n",
    "\n",
    "bucket = '<your bucket name here>'\n",
    "\n",
    "sagemaker_session = sagemaker.Session()\n",
    "\n",
    "custom_code_upload_location = '< your S3 uri for custom code upload location>' \n",
    "\n",
    "#Bucket location where results of model training are saved.\n",
    "model_artifacts_location = '< your S3 uri for model artifacts>' \n",
    "\n",
    "role = get_execution_role()"
   ]
  },
  {
   "cell_type": "code",
   "execution_count": null,
   "metadata": {},
   "outputs": [],
   "source": [
    "inputs = sagemaker_session.upload_data(path='data', bucket=bucket, key_prefix='data/creditrisk')"
   ]
  },
  {
   "cell_type": "code",
   "execution_count": null,
   "metadata": {},
   "outputs": [],
   "source": [
    "import subprocess\n",
    "\n",
    "instance_type = 'local'\n",
    "\n",
    "if subprocess.call('nvidia-smi') == 0:\n",
    "    ## Set type to GPU if one is present\n",
    "    instance_type = 'local_gpu'\n",
    "    \n",
    "print(\"Instance type = \" + instance_type)\n",
    "\n",
    "role = get_execution_role()"
   ]
  },
  {
   "cell_type": "markdown",
   "metadata": {},
   "source": [
    "- download training script https://s3-us-west-2.amazonaws.com/ml-training-sfo/creditrisk.py\n",
    "- upload to the directory of this notebook"
   ]
  },
  {
   "cell_type": "code",
   "execution_count": null,
   "metadata": {},
   "outputs": [],
   "source": [
    "!cat creditrisk.py"
   ]
  },
  {
   "cell_type": "code",
   "execution_count": null,
   "metadata": {},
   "outputs": [],
   "source": [
    "from sagemaker.mxnet import MXNet\n",
    "\n",
    "cr_estimator = MXNet('creditrisk.py',\n",
    "                        role=role,\n",
    "                        output_path=model_artifacts_location,\n",
    "                        code_location=custom_code_upload_location,\n",
    "                        train_instance_count=1, \n",
    "                        #train_instance_type='ml.m4.xlarge',\n",
    "                        train_instance_type= instance_type,\n",
    "                        hyperparameters={'learning_rate': 0.1})\n"
   ]
  },
  {
   "cell_type": "code",
   "execution_count": null,
   "metadata": {},
   "outputs": [],
   "source": [
    "cr_estimator.fit(inputs)"
   ]
  },
  {
   "cell_type": "code",
   "execution_count": null,
   "metadata": {},
   "outputs": [],
   "source": [
    "from sagemaker.mxnet import MXNet\n",
    "\n",
    "cr_estimator = MXNet('creditrisk.py',\n",
    "                        role=role,\n",
    "                        output_path=model_artifacts_location,\n",
    "                        code_location=custom_code_upload_location,\n",
    "                        train_instance_count=1, \n",
    "                        train_instance_type='ml.m4.xlarge',\n",
    "                        hyperparameters={'learning_rate': 0.1})\n"
   ]
  },
  {
   "cell_type": "code",
   "execution_count": null,
   "metadata": {},
   "outputs": [],
   "source": [
    "cr_estimator.fit(inputs)"
   ]
  },
  {
   "cell_type": "markdown",
   "metadata": {},
   "source": [
    "# Evaluting the model performance"
   ]
  },
  {
   "cell_type": "code",
   "execution_count": null,
   "metadata": {},
   "outputs": [],
   "source": [
    "import os\n",
    "prefix = \"artifacts\"\n",
    "model_path = os.path.join(prefix, cr_estimator._current_job_name, 'output/model.tar.gz')\n",
    "model_path"
   ]
  },
  {
   "cell_type": "code",
   "execution_count": null,
   "metadata": {},
   "outputs": [],
   "source": [
    "boto3.resource('s3').Bucket(bucket).download_file(model_path, 'downloaded_model.tar.gz')"
   ]
  },
  {
   "cell_type": "code",
   "execution_count": null,
   "metadata": {},
   "outputs": [],
   "source": [
    "!tar -xzvf 'downloaded_model.tar.gz'"
   ]
  },
  {
   "cell_type": "code",
   "execution_count": null,
   "metadata": {},
   "outputs": [],
   "source": [
    "mod = mx.module.Module.load(\"model\", 0)"
   ]
  },
  {
   "cell_type": "code",
   "execution_count": null,
   "metadata": {},
   "outputs": [],
   "source": [
    "sym, arg_params, aux_params = mx.model.load_checkpoint('model', 0)\n",
    "\n",
    "ctx = mx.cpu()\n",
    "\n",
    "mod = mx.mod.Module(symbol=sym, context=ctx, label_names=None)\n",
    "mod.bind(for_training=False, data_shapes=testIter.provide_data, label_shapes=testIter.provide_label)\n",
    "mod.set_params(arg_params, aux_params, allow_missing=True)\n",
    "\n",
    "\n",
    "mod.score(testIter, metric)"
   ]
  },
  {
   "cell_type": "code",
   "execution_count": null,
   "metadata": {},
   "outputs": [],
   "source": []
  }
 ],
 "metadata": {
  "kernelspec": {
   "display_name": "conda_mxnet_p36",
   "language": "python",
   "name": "conda_mxnet_p36"
  },
  "language_info": {
   "codemirror_mode": {
    "name": "ipython",
    "version": 3
   },
   "file_extension": ".py",
   "mimetype": "text/x-python",
   "name": "python",
   "nbconvert_exporter": "python",
   "pygments_lexer": "ipython3",
   "version": "3.6.4"
  }
 },
 "nbformat": 4,
 "nbformat_minor": 2
}
